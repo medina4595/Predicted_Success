{
 "cells": [
  {
   "cell_type": "markdown",
   "source": [
    "# Venture Funding with Deep Learning\n",
    "\n",
    "You work as a risk management associate at Alphabet Soup, a venture capital firm. Alphabet Soup’s business team receives many funding applications from startups every day. This team has asked you to help them create a model that predicts whether applicants will be successful if funded by Alphabet Soup.\n",
    "\n",
    "The business team has given you a CSV containing more than 34,000 organizations that have received funding from Alphabet Soup over the years. With your knowledge of machine learning and neural networks, you decide to use the features in the provided dataset to create a binary classifier model that will predict whether an applicant will become a successful business. The CSV file contains a variety of information about these businesses, including whether or not they ultimately became successful.\n",
    "\n",
    "## Instructions:\n",
    "\n",
    "The steps for this challenge are broken out into the following sections:\n",
    "\n",
    "* Prepare the data for use on a neural network model.\n",
    "\n",
    "* Compile and evaluate a binary classification model using a neural network.\n",
    "\n",
    "* Optimize the neural network model.\n",
    "\n",
    "### Prepare the Data for Use on a Neural Network Model \n",
    "\n",
    "Using your knowledge of Pandas and scikit-learn’s `StandardScaler()`, preprocess the dataset so that you can use it to compile and evaluate the neural network model later.\n",
    "\n",
    "Open the starter code file, and complete the following data preparation steps:\n",
    "\n",
    "1. Read the `applicants_data.csv` file into a Pandas DataFrame. Review the DataFrame, looking for categorical variables that will need to be encoded, as well as columns that could eventually define your features and target variables.   \n",
    "\n",
    "2. Drop the “EIN” (Employer Identification Number) and “NAME” columns from the DataFrame, because they are not relevant to the binary classification model.\n",
    " \n",
    "3. Encode the dataset’s categorical variables using `OneHotEncoder`, and then place the encoded variables into a new DataFrame.\n",
    "\n",
    "4. Add the original DataFrame’s numerical variables to the DataFrame containing the encoded variables.\n",
    "\n",
    "> **Note** To complete this step, you will employ the Pandas `concat()` function that was introduced earlier in this course. \n",
    "\n",
    "5. Using the preprocessed data, create the features (`X`) and target (`y`) datasets. The target dataset should be defined by the preprocessed DataFrame column “IS_SUCCESSFUL”. The remaining columns should define the features dataset. \n",
    "\n",
    "6. Split the features and target sets into training and testing datasets.\n",
    "\n",
    "7. Use scikit-learn's `StandardScaler` to scale the features data.\n",
    "\n",
    "### Compile and Evaluate a Binary Classification Model Using a Neural Network\n",
    "\n",
    "Use your knowledge of TensorFlow to design a binary classification deep neural network model. This model should use the dataset’s features to predict whether an Alphabet Soup&ndash;funded startup will be successful based on the features in the dataset. Consider the number of inputs before determining the number of layers that your model will contain or the number of neurons on each layer. Then, compile and fit your model. Finally, evaluate your binary classification model to calculate the model’s loss and accuracy. \n",
    " \n",
    "To do so, complete the following steps:\n",
    "\n",
    "1. Create a deep neural network by assigning the number of input features, the number of layers, and the number of neurons on each layer using Tensorflow’s Keras.\n",
    "\n",
    "> **Hint** You can start with a two-layer deep neural network model that uses the `relu` activation function for both layers.\n",
    "\n",
    "2. Compile and fit the model using the `binary_crossentropy` loss function, the `adam` optimizer, and the `accuracy` evaluation metric.\n",
    "\n",
    "> **Hint** When fitting the model, start with a small number of epochs, such as 20, 50, or 100.\n",
    "\n",
    "3. Evaluate the model using the test data to determine the model’s loss and accuracy.\n",
    "\n",
    "4. Save and export your model to an HDF5 file, and name the file `AlphabetSoup.h5`. \n",
    "\n",
    "### Optimize the Neural Network Model\n",
    "\n",
    "Using your knowledge of TensorFlow and Keras, optimize your model to improve the model's accuracy. Even if you do not successfully achieve a better accuracy, you'll need to demonstrate at least two attempts to optimize the model. You can include these attempts in your existing notebook. Or, you can make copies of the starter notebook in the same folder, rename them, and code each model optimization in a new notebook. \n",
    "\n",
    "> **Note** You will not lose points if your model does not achieve a high accuracy, as long as you make at least two attempts to optimize the model.\n",
    "\n",
    "To do so, complete the following steps:\n",
    "\n",
    "1. Define at least three new deep neural network models (the original plus 2 optimization attempts). With each, try to improve on your first model’s predictive accuracy.\n",
    "\n",
    "> **Rewind** Recall that perfect accuracy has a value of 1, so accuracy improves as its value moves closer to 1. To optimize your model for a predictive accuracy as close to 1 as possible, you can use any or all of the following techniques:\n",
    ">\n",
    "> * Adjust the input data by dropping different features columns to ensure that no variables or outliers confuse the model.\n",
    ">\n",
    "> * Add more neurons (nodes) to a hidden layer.\n",
    ">\n",
    "> * Add more hidden layers.\n",
    ">\n",
    "> * Use different activation functions for the hidden layers.\n",
    ">\n",
    "> * Add to or reduce the number of epochs in the training regimen.\n",
    "\n",
    "2. After finishing your models, display the accuracy scores achieved by each model, and compare the results.\n",
    "\n",
    "3. Save each of your models as an HDF5 file.\n"
   ],
   "metadata": {}
  },
  {
   "cell_type": "code",
   "execution_count": 1,
   "source": [
    "# Imports\r\n",
    "import pandas as pd\r\n",
    "from pathlib import Path\r\n",
    "import tensorflow as tf\r\n",
    "from tensorflow.keras.layers import Dense\r\n",
    "from tensorflow.keras.models import Sequential\r\n",
    "from sklearn.model_selection import train_test_split\r\n",
    "from sklearn.preprocessing import StandardScaler,OneHotEncoder"
   ],
   "outputs": [],
   "metadata": {}
  },
  {
   "cell_type": "markdown",
   "source": [
    "---\n",
    "\n",
    "## Prepare the data to be used on a neural network model"
   ],
   "metadata": {}
  },
  {
   "cell_type": "markdown",
   "source": [
    "### Step 1: Read the `applicants_data.csv` file into a Pandas DataFrame. Review the DataFrame, looking for categorical variables that will need to be encoded, as well as columns that could eventually define your features and target variables.  \n"
   ],
   "metadata": {}
  },
  {
   "cell_type": "code",
   "execution_count": 3,
   "source": [
    "# Read the applicants_data.csv file from the Resources folder into a Pandas DataFrame\r\n",
    "applicant_data_df = pd.read_csv(\r\n",
    "    Path('Resources/applicants_data.csv')\r\n",
    ")\r\n",
    "\r\n",
    "# Review the DataFrame\r\n",
    "applicant_data_df.head()\r\n"
   ],
   "outputs": [
    {
     "output_type": "execute_result",
     "data": {
      "text/html": [
       "<div>\n",
       "<style scoped>\n",
       "    .dataframe tbody tr th:only-of-type {\n",
       "        vertical-align: middle;\n",
       "    }\n",
       "\n",
       "    .dataframe tbody tr th {\n",
       "        vertical-align: top;\n",
       "    }\n",
       "\n",
       "    .dataframe thead th {\n",
       "        text-align: right;\n",
       "    }\n",
       "</style>\n",
       "<table border=\"1\" class=\"dataframe\">\n",
       "  <thead>\n",
       "    <tr style=\"text-align: right;\">\n",
       "      <th></th>\n",
       "      <th>EIN</th>\n",
       "      <th>NAME</th>\n",
       "      <th>APPLICATION_TYPE</th>\n",
       "      <th>AFFILIATION</th>\n",
       "      <th>CLASSIFICATION</th>\n",
       "      <th>USE_CASE</th>\n",
       "      <th>ORGANIZATION</th>\n",
       "      <th>STATUS</th>\n",
       "      <th>INCOME_AMT</th>\n",
       "      <th>SPECIAL_CONSIDERATIONS</th>\n",
       "      <th>ASK_AMT</th>\n",
       "      <th>IS_SUCCESSFUL</th>\n",
       "    </tr>\n",
       "  </thead>\n",
       "  <tbody>\n",
       "    <tr>\n",
       "      <th>0</th>\n",
       "      <td>10520599</td>\n",
       "      <td>BLUE KNIGHTS MOTORCYCLE CLUB</td>\n",
       "      <td>T10</td>\n",
       "      <td>Independent</td>\n",
       "      <td>C1000</td>\n",
       "      <td>ProductDev</td>\n",
       "      <td>Association</td>\n",
       "      <td>1</td>\n",
       "      <td>0</td>\n",
       "      <td>N</td>\n",
       "      <td>5000</td>\n",
       "      <td>1</td>\n",
       "    </tr>\n",
       "    <tr>\n",
       "      <th>1</th>\n",
       "      <td>10531628</td>\n",
       "      <td>AMERICAN CHESAPEAKE CLUB CHARITABLE TR</td>\n",
       "      <td>T3</td>\n",
       "      <td>Independent</td>\n",
       "      <td>C2000</td>\n",
       "      <td>Preservation</td>\n",
       "      <td>Co-operative</td>\n",
       "      <td>1</td>\n",
       "      <td>1-9999</td>\n",
       "      <td>N</td>\n",
       "      <td>108590</td>\n",
       "      <td>1</td>\n",
       "    </tr>\n",
       "    <tr>\n",
       "      <th>2</th>\n",
       "      <td>10547893</td>\n",
       "      <td>ST CLOUD PROFESSIONAL FIREFIGHTERS</td>\n",
       "      <td>T5</td>\n",
       "      <td>CompanySponsored</td>\n",
       "      <td>C3000</td>\n",
       "      <td>ProductDev</td>\n",
       "      <td>Association</td>\n",
       "      <td>1</td>\n",
       "      <td>0</td>\n",
       "      <td>N</td>\n",
       "      <td>5000</td>\n",
       "      <td>0</td>\n",
       "    </tr>\n",
       "    <tr>\n",
       "      <th>3</th>\n",
       "      <td>10553066</td>\n",
       "      <td>SOUTHSIDE ATHLETIC ASSOCIATION</td>\n",
       "      <td>T3</td>\n",
       "      <td>CompanySponsored</td>\n",
       "      <td>C2000</td>\n",
       "      <td>Preservation</td>\n",
       "      <td>Trust</td>\n",
       "      <td>1</td>\n",
       "      <td>10000-24999</td>\n",
       "      <td>N</td>\n",
       "      <td>6692</td>\n",
       "      <td>1</td>\n",
       "    </tr>\n",
       "    <tr>\n",
       "      <th>4</th>\n",
       "      <td>10556103</td>\n",
       "      <td>GENETIC RESEARCH INSTITUTE OF THE DESERT</td>\n",
       "      <td>T3</td>\n",
       "      <td>Independent</td>\n",
       "      <td>C1000</td>\n",
       "      <td>Heathcare</td>\n",
       "      <td>Trust</td>\n",
       "      <td>1</td>\n",
       "      <td>100000-499999</td>\n",
       "      <td>N</td>\n",
       "      <td>142590</td>\n",
       "      <td>1</td>\n",
       "    </tr>\n",
       "  </tbody>\n",
       "</table>\n",
       "</div>"
      ],
      "text/plain": [
       "        EIN                                      NAME APPLICATION_TYPE  \\\n",
       "0  10520599              BLUE KNIGHTS MOTORCYCLE CLUB              T10   \n",
       "1  10531628    AMERICAN CHESAPEAKE CLUB CHARITABLE TR               T3   \n",
       "2  10547893        ST CLOUD PROFESSIONAL FIREFIGHTERS               T5   \n",
       "3  10553066            SOUTHSIDE ATHLETIC ASSOCIATION               T3   \n",
       "4  10556103  GENETIC RESEARCH INSTITUTE OF THE DESERT               T3   \n",
       "\n",
       "        AFFILIATION CLASSIFICATION      USE_CASE  ORGANIZATION  STATUS  \\\n",
       "0       Independent          C1000    ProductDev   Association       1   \n",
       "1       Independent          C2000  Preservation  Co-operative       1   \n",
       "2  CompanySponsored          C3000    ProductDev   Association       1   \n",
       "3  CompanySponsored          C2000  Preservation         Trust       1   \n",
       "4       Independent          C1000     Heathcare         Trust       1   \n",
       "\n",
       "      INCOME_AMT SPECIAL_CONSIDERATIONS  ASK_AMT  IS_SUCCESSFUL  \n",
       "0              0                      N     5000              1  \n",
       "1         1-9999                      N   108590              1  \n",
       "2              0                      N     5000              0  \n",
       "3    10000-24999                      N     6692              1  \n",
       "4  100000-499999                      N   142590              1  "
      ]
     },
     "metadata": {},
     "execution_count": 3
    }
   ],
   "metadata": {}
  },
  {
   "cell_type": "code",
   "execution_count": 4,
   "source": [
    "# Review the data types associated with the columns\r\n",
    "applicant_data_df.dtypes\r\n"
   ],
   "outputs": [
    {
     "output_type": "execute_result",
     "data": {
      "text/plain": [
       "EIN                        int64\n",
       "NAME                      object\n",
       "APPLICATION_TYPE          object\n",
       "AFFILIATION               object\n",
       "CLASSIFICATION            object\n",
       "USE_CASE                  object\n",
       "ORGANIZATION              object\n",
       "STATUS                     int64\n",
       "INCOME_AMT                object\n",
       "SPECIAL_CONSIDERATIONS    object\n",
       "ASK_AMT                    int64\n",
       "IS_SUCCESSFUL              int64\n",
       "dtype: object"
      ]
     },
     "metadata": {},
     "execution_count": 4
    }
   ],
   "metadata": {}
  },
  {
   "cell_type": "markdown",
   "source": [
    "### Step 2: Drop the “EIN” (Employer Identification Number) and “NAME” columns from the DataFrame, because they are not relevant to the binary classification model."
   ],
   "metadata": {}
  },
  {
   "cell_type": "code",
   "execution_count": 5,
   "source": [
    "# Drop the 'EIN' and 'NAME' columns from the DataFrame\r\n",
    "applicant_data_df = applicant_data_df.drop(columns=['EIN','NAME'])\r\n",
    "\r\n",
    "# Review the DataFrame\r\n",
    "applicant_data_df.head()\r\n"
   ],
   "outputs": [
    {
     "output_type": "execute_result",
     "data": {
      "text/html": [
       "<div>\n",
       "<style scoped>\n",
       "    .dataframe tbody tr th:only-of-type {\n",
       "        vertical-align: middle;\n",
       "    }\n",
       "\n",
       "    .dataframe tbody tr th {\n",
       "        vertical-align: top;\n",
       "    }\n",
       "\n",
       "    .dataframe thead th {\n",
       "        text-align: right;\n",
       "    }\n",
       "</style>\n",
       "<table border=\"1\" class=\"dataframe\">\n",
       "  <thead>\n",
       "    <tr style=\"text-align: right;\">\n",
       "      <th></th>\n",
       "      <th>APPLICATION_TYPE</th>\n",
       "      <th>AFFILIATION</th>\n",
       "      <th>CLASSIFICATION</th>\n",
       "      <th>USE_CASE</th>\n",
       "      <th>ORGANIZATION</th>\n",
       "      <th>STATUS</th>\n",
       "      <th>INCOME_AMT</th>\n",
       "      <th>SPECIAL_CONSIDERATIONS</th>\n",
       "      <th>ASK_AMT</th>\n",
       "      <th>IS_SUCCESSFUL</th>\n",
       "    </tr>\n",
       "  </thead>\n",
       "  <tbody>\n",
       "    <tr>\n",
       "      <th>0</th>\n",
       "      <td>T10</td>\n",
       "      <td>Independent</td>\n",
       "      <td>C1000</td>\n",
       "      <td>ProductDev</td>\n",
       "      <td>Association</td>\n",
       "      <td>1</td>\n",
       "      <td>0</td>\n",
       "      <td>N</td>\n",
       "      <td>5000</td>\n",
       "      <td>1</td>\n",
       "    </tr>\n",
       "    <tr>\n",
       "      <th>1</th>\n",
       "      <td>T3</td>\n",
       "      <td>Independent</td>\n",
       "      <td>C2000</td>\n",
       "      <td>Preservation</td>\n",
       "      <td>Co-operative</td>\n",
       "      <td>1</td>\n",
       "      <td>1-9999</td>\n",
       "      <td>N</td>\n",
       "      <td>108590</td>\n",
       "      <td>1</td>\n",
       "    </tr>\n",
       "    <tr>\n",
       "      <th>2</th>\n",
       "      <td>T5</td>\n",
       "      <td>CompanySponsored</td>\n",
       "      <td>C3000</td>\n",
       "      <td>ProductDev</td>\n",
       "      <td>Association</td>\n",
       "      <td>1</td>\n",
       "      <td>0</td>\n",
       "      <td>N</td>\n",
       "      <td>5000</td>\n",
       "      <td>0</td>\n",
       "    </tr>\n",
       "    <tr>\n",
       "      <th>3</th>\n",
       "      <td>T3</td>\n",
       "      <td>CompanySponsored</td>\n",
       "      <td>C2000</td>\n",
       "      <td>Preservation</td>\n",
       "      <td>Trust</td>\n",
       "      <td>1</td>\n",
       "      <td>10000-24999</td>\n",
       "      <td>N</td>\n",
       "      <td>6692</td>\n",
       "      <td>1</td>\n",
       "    </tr>\n",
       "    <tr>\n",
       "      <th>4</th>\n",
       "      <td>T3</td>\n",
       "      <td>Independent</td>\n",
       "      <td>C1000</td>\n",
       "      <td>Heathcare</td>\n",
       "      <td>Trust</td>\n",
       "      <td>1</td>\n",
       "      <td>100000-499999</td>\n",
       "      <td>N</td>\n",
       "      <td>142590</td>\n",
       "      <td>1</td>\n",
       "    </tr>\n",
       "  </tbody>\n",
       "</table>\n",
       "</div>"
      ],
      "text/plain": [
       "  APPLICATION_TYPE       AFFILIATION CLASSIFICATION      USE_CASE  \\\n",
       "0              T10       Independent          C1000    ProductDev   \n",
       "1               T3       Independent          C2000  Preservation   \n",
       "2               T5  CompanySponsored          C3000    ProductDev   \n",
       "3               T3  CompanySponsored          C2000  Preservation   \n",
       "4               T3       Independent          C1000     Heathcare   \n",
       "\n",
       "   ORGANIZATION  STATUS     INCOME_AMT SPECIAL_CONSIDERATIONS  ASK_AMT  \\\n",
       "0   Association       1              0                      N     5000   \n",
       "1  Co-operative       1         1-9999                      N   108590   \n",
       "2   Association       1              0                      N     5000   \n",
       "3         Trust       1    10000-24999                      N     6692   \n",
       "4         Trust       1  100000-499999                      N   142590   \n",
       "\n",
       "   IS_SUCCESSFUL  \n",
       "0              1  \n",
       "1              1  \n",
       "2              0  \n",
       "3              1  \n",
       "4              1  "
      ]
     },
     "metadata": {},
     "execution_count": 5
    }
   ],
   "metadata": {}
  },
  {
   "cell_type": "markdown",
   "source": [
    "### Step 3: Encode the dataset’s categorical variables using `OneHotEncoder`, and then place the encoded variables into a new DataFrame."
   ],
   "metadata": {}
  },
  {
   "cell_type": "code",
   "execution_count": 6,
   "source": [
    "# Create a list of categorical variables \r\n",
    "categorical_variables = list(applicant_data_df.dtypes[applicant_data_df.dtypes=='object'].index)\r\n",
    "\r\n",
    "# Display the categorical variables list\r\n",
    "categorical_variables\r\n"
   ],
   "outputs": [
    {
     "output_type": "execute_result",
     "data": {
      "text/plain": [
       "['APPLICATION_TYPE',\n",
       " 'AFFILIATION',\n",
       " 'CLASSIFICATION',\n",
       " 'USE_CASE',\n",
       " 'ORGANIZATION',\n",
       " 'INCOME_AMT',\n",
       " 'SPECIAL_CONSIDERATIONS']"
      ]
     },
     "metadata": {},
     "execution_count": 6
    }
   ],
   "metadata": {}
  },
  {
   "cell_type": "code",
   "execution_count": 7,
   "source": [
    "# Create a OneHotEncoder instance\r\n",
    "enc = OneHotEncoder(sparse=False)\r\n"
   ],
   "outputs": [],
   "metadata": {}
  },
  {
   "cell_type": "code",
   "execution_count": 8,
   "source": [
    "# Encode the categorcal variables using OneHotEncoder\r\n",
    "encoded_data = enc.fit_transform(applicant_data_df[categorical_variables])\r\n"
   ],
   "outputs": [],
   "metadata": {}
  },
  {
   "cell_type": "code",
   "execution_count": 9,
   "source": [
    "# Create a DataFrame with the encoded variables\r\n",
    "encoded_df = pd.DataFrame(\r\n",
    "    encoded_data,\r\n",
    "    columns= enc.get_feature_names(categorical_variables)\r\n",
    ")\r\n",
    "\r\n",
    "# Review the DataFrame\r\n",
    "encoded_df.head()\r\n"
   ],
   "outputs": [
    {
     "output_type": "execute_result",
     "data": {
      "text/html": [
       "<div>\n",
       "<style scoped>\n",
       "    .dataframe tbody tr th:only-of-type {\n",
       "        vertical-align: middle;\n",
       "    }\n",
       "\n",
       "    .dataframe tbody tr th {\n",
       "        vertical-align: top;\n",
       "    }\n",
       "\n",
       "    .dataframe thead th {\n",
       "        text-align: right;\n",
       "    }\n",
       "</style>\n",
       "<table border=\"1\" class=\"dataframe\">\n",
       "  <thead>\n",
       "    <tr style=\"text-align: right;\">\n",
       "      <th></th>\n",
       "      <th>APPLICATION_TYPE_T10</th>\n",
       "      <th>APPLICATION_TYPE_T12</th>\n",
       "      <th>APPLICATION_TYPE_T13</th>\n",
       "      <th>APPLICATION_TYPE_T14</th>\n",
       "      <th>APPLICATION_TYPE_T15</th>\n",
       "      <th>APPLICATION_TYPE_T17</th>\n",
       "      <th>APPLICATION_TYPE_T19</th>\n",
       "      <th>APPLICATION_TYPE_T2</th>\n",
       "      <th>APPLICATION_TYPE_T25</th>\n",
       "      <th>APPLICATION_TYPE_T29</th>\n",
       "      <th>...</th>\n",
       "      <th>INCOME_AMT_1-9999</th>\n",
       "      <th>INCOME_AMT_10000-24999</th>\n",
       "      <th>INCOME_AMT_100000-499999</th>\n",
       "      <th>INCOME_AMT_10M-50M</th>\n",
       "      <th>INCOME_AMT_1M-5M</th>\n",
       "      <th>INCOME_AMT_25000-99999</th>\n",
       "      <th>INCOME_AMT_50M+</th>\n",
       "      <th>INCOME_AMT_5M-10M</th>\n",
       "      <th>SPECIAL_CONSIDERATIONS_N</th>\n",
       "      <th>SPECIAL_CONSIDERATIONS_Y</th>\n",
       "    </tr>\n",
       "  </thead>\n",
       "  <tbody>\n",
       "    <tr>\n",
       "      <th>0</th>\n",
       "      <td>1.0</td>\n",
       "      <td>0.0</td>\n",
       "      <td>0.0</td>\n",
       "      <td>0.0</td>\n",
       "      <td>0.0</td>\n",
       "      <td>0.0</td>\n",
       "      <td>0.0</td>\n",
       "      <td>0.0</td>\n",
       "      <td>0.0</td>\n",
       "      <td>0.0</td>\n",
       "      <td>...</td>\n",
       "      <td>0.0</td>\n",
       "      <td>0.0</td>\n",
       "      <td>0.0</td>\n",
       "      <td>0.0</td>\n",
       "      <td>0.0</td>\n",
       "      <td>0.0</td>\n",
       "      <td>0.0</td>\n",
       "      <td>0.0</td>\n",
       "      <td>1.0</td>\n",
       "      <td>0.0</td>\n",
       "    </tr>\n",
       "    <tr>\n",
       "      <th>1</th>\n",
       "      <td>0.0</td>\n",
       "      <td>0.0</td>\n",
       "      <td>0.0</td>\n",
       "      <td>0.0</td>\n",
       "      <td>0.0</td>\n",
       "      <td>0.0</td>\n",
       "      <td>0.0</td>\n",
       "      <td>0.0</td>\n",
       "      <td>0.0</td>\n",
       "      <td>0.0</td>\n",
       "      <td>...</td>\n",
       "      <td>1.0</td>\n",
       "      <td>0.0</td>\n",
       "      <td>0.0</td>\n",
       "      <td>0.0</td>\n",
       "      <td>0.0</td>\n",
       "      <td>0.0</td>\n",
       "      <td>0.0</td>\n",
       "      <td>0.0</td>\n",
       "      <td>1.0</td>\n",
       "      <td>0.0</td>\n",
       "    </tr>\n",
       "    <tr>\n",
       "      <th>2</th>\n",
       "      <td>0.0</td>\n",
       "      <td>0.0</td>\n",
       "      <td>0.0</td>\n",
       "      <td>0.0</td>\n",
       "      <td>0.0</td>\n",
       "      <td>0.0</td>\n",
       "      <td>0.0</td>\n",
       "      <td>0.0</td>\n",
       "      <td>0.0</td>\n",
       "      <td>0.0</td>\n",
       "      <td>...</td>\n",
       "      <td>0.0</td>\n",
       "      <td>0.0</td>\n",
       "      <td>0.0</td>\n",
       "      <td>0.0</td>\n",
       "      <td>0.0</td>\n",
       "      <td>0.0</td>\n",
       "      <td>0.0</td>\n",
       "      <td>0.0</td>\n",
       "      <td>1.0</td>\n",
       "      <td>0.0</td>\n",
       "    </tr>\n",
       "    <tr>\n",
       "      <th>3</th>\n",
       "      <td>0.0</td>\n",
       "      <td>0.0</td>\n",
       "      <td>0.0</td>\n",
       "      <td>0.0</td>\n",
       "      <td>0.0</td>\n",
       "      <td>0.0</td>\n",
       "      <td>0.0</td>\n",
       "      <td>0.0</td>\n",
       "      <td>0.0</td>\n",
       "      <td>0.0</td>\n",
       "      <td>...</td>\n",
       "      <td>0.0</td>\n",
       "      <td>1.0</td>\n",
       "      <td>0.0</td>\n",
       "      <td>0.0</td>\n",
       "      <td>0.0</td>\n",
       "      <td>0.0</td>\n",
       "      <td>0.0</td>\n",
       "      <td>0.0</td>\n",
       "      <td>1.0</td>\n",
       "      <td>0.0</td>\n",
       "    </tr>\n",
       "    <tr>\n",
       "      <th>4</th>\n",
       "      <td>0.0</td>\n",
       "      <td>0.0</td>\n",
       "      <td>0.0</td>\n",
       "      <td>0.0</td>\n",
       "      <td>0.0</td>\n",
       "      <td>0.0</td>\n",
       "      <td>0.0</td>\n",
       "      <td>0.0</td>\n",
       "      <td>0.0</td>\n",
       "      <td>0.0</td>\n",
       "      <td>...</td>\n",
       "      <td>0.0</td>\n",
       "      <td>0.0</td>\n",
       "      <td>1.0</td>\n",
       "      <td>0.0</td>\n",
       "      <td>0.0</td>\n",
       "      <td>0.0</td>\n",
       "      <td>0.0</td>\n",
       "      <td>0.0</td>\n",
       "      <td>1.0</td>\n",
       "      <td>0.0</td>\n",
       "    </tr>\n",
       "  </tbody>\n",
       "</table>\n",
       "<p>5 rows × 114 columns</p>\n",
       "</div>"
      ],
      "text/plain": [
       "   APPLICATION_TYPE_T10  APPLICATION_TYPE_T12  APPLICATION_TYPE_T13  \\\n",
       "0                   1.0                   0.0                   0.0   \n",
       "1                   0.0                   0.0                   0.0   \n",
       "2                   0.0                   0.0                   0.0   \n",
       "3                   0.0                   0.0                   0.0   \n",
       "4                   0.0                   0.0                   0.0   \n",
       "\n",
       "   APPLICATION_TYPE_T14  APPLICATION_TYPE_T15  APPLICATION_TYPE_T17  \\\n",
       "0                   0.0                   0.0                   0.0   \n",
       "1                   0.0                   0.0                   0.0   \n",
       "2                   0.0                   0.0                   0.0   \n",
       "3                   0.0                   0.0                   0.0   \n",
       "4                   0.0                   0.0                   0.0   \n",
       "\n",
       "   APPLICATION_TYPE_T19  APPLICATION_TYPE_T2  APPLICATION_TYPE_T25  \\\n",
       "0                   0.0                  0.0                   0.0   \n",
       "1                   0.0                  0.0                   0.0   \n",
       "2                   0.0                  0.0                   0.0   \n",
       "3                   0.0                  0.0                   0.0   \n",
       "4                   0.0                  0.0                   0.0   \n",
       "\n",
       "   APPLICATION_TYPE_T29  ...  INCOME_AMT_1-9999  INCOME_AMT_10000-24999  \\\n",
       "0                   0.0  ...                0.0                     0.0   \n",
       "1                   0.0  ...                1.0                     0.0   \n",
       "2                   0.0  ...                0.0                     0.0   \n",
       "3                   0.0  ...                0.0                     1.0   \n",
       "4                   0.0  ...                0.0                     0.0   \n",
       "\n",
       "   INCOME_AMT_100000-499999  INCOME_AMT_10M-50M  INCOME_AMT_1M-5M  \\\n",
       "0                       0.0                 0.0               0.0   \n",
       "1                       0.0                 0.0               0.0   \n",
       "2                       0.0                 0.0               0.0   \n",
       "3                       0.0                 0.0               0.0   \n",
       "4                       1.0                 0.0               0.0   \n",
       "\n",
       "   INCOME_AMT_25000-99999  INCOME_AMT_50M+  INCOME_AMT_5M-10M  \\\n",
       "0                     0.0              0.0                0.0   \n",
       "1                     0.0              0.0                0.0   \n",
       "2                     0.0              0.0                0.0   \n",
       "3                     0.0              0.0                0.0   \n",
       "4                     0.0              0.0                0.0   \n",
       "\n",
       "   SPECIAL_CONSIDERATIONS_N  SPECIAL_CONSIDERATIONS_Y  \n",
       "0                       1.0                       0.0  \n",
       "1                       1.0                       0.0  \n",
       "2                       1.0                       0.0  \n",
       "3                       1.0                       0.0  \n",
       "4                       1.0                       0.0  \n",
       "\n",
       "[5 rows x 114 columns]"
      ]
     },
     "metadata": {},
     "execution_count": 9
    }
   ],
   "metadata": {}
  },
  {
   "cell_type": "markdown",
   "source": [
    "### Step 4: Add the original DataFrame’s numerical variables to the DataFrame containing the encoded variables.\n",
    "\n",
    "> **Note** To complete this step, you will employ the Pandas `concat()` function that was introduced earlier in this course. "
   ],
   "metadata": {}
  },
  {
   "cell_type": "code",
   "execution_count": 10,
   "source": [
    "# Add the numerical variables from the original DataFrame to the one-hot encoding DataFrame\r\n",
    "encoded_df = pd.concat([applicant_data_df[['STATUS','ASK_AMT','IS_SUCCESSFUL']],encoded_df], axis=1)\r\n",
    "\r\n",
    "# Review the Dataframe\r\n",
    "encoded_df.head()"
   ],
   "outputs": [
    {
     "output_type": "execute_result",
     "data": {
      "text/html": [
       "<div>\n",
       "<style scoped>\n",
       "    .dataframe tbody tr th:only-of-type {\n",
       "        vertical-align: middle;\n",
       "    }\n",
       "\n",
       "    .dataframe tbody tr th {\n",
       "        vertical-align: top;\n",
       "    }\n",
       "\n",
       "    .dataframe thead th {\n",
       "        text-align: right;\n",
       "    }\n",
       "</style>\n",
       "<table border=\"1\" class=\"dataframe\">\n",
       "  <thead>\n",
       "    <tr style=\"text-align: right;\">\n",
       "      <th></th>\n",
       "      <th>STATUS</th>\n",
       "      <th>ASK_AMT</th>\n",
       "      <th>IS_SUCCESSFUL</th>\n",
       "      <th>APPLICATION_TYPE_T10</th>\n",
       "      <th>APPLICATION_TYPE_T12</th>\n",
       "      <th>APPLICATION_TYPE_T13</th>\n",
       "      <th>APPLICATION_TYPE_T14</th>\n",
       "      <th>APPLICATION_TYPE_T15</th>\n",
       "      <th>APPLICATION_TYPE_T17</th>\n",
       "      <th>APPLICATION_TYPE_T19</th>\n",
       "      <th>...</th>\n",
       "      <th>INCOME_AMT_1-9999</th>\n",
       "      <th>INCOME_AMT_10000-24999</th>\n",
       "      <th>INCOME_AMT_100000-499999</th>\n",
       "      <th>INCOME_AMT_10M-50M</th>\n",
       "      <th>INCOME_AMT_1M-5M</th>\n",
       "      <th>INCOME_AMT_25000-99999</th>\n",
       "      <th>INCOME_AMT_50M+</th>\n",
       "      <th>INCOME_AMT_5M-10M</th>\n",
       "      <th>SPECIAL_CONSIDERATIONS_N</th>\n",
       "      <th>SPECIAL_CONSIDERATIONS_Y</th>\n",
       "    </tr>\n",
       "  </thead>\n",
       "  <tbody>\n",
       "    <tr>\n",
       "      <th>0</th>\n",
       "      <td>1</td>\n",
       "      <td>5000</td>\n",
       "      <td>1</td>\n",
       "      <td>1.0</td>\n",
       "      <td>0.0</td>\n",
       "      <td>0.0</td>\n",
       "      <td>0.0</td>\n",
       "      <td>0.0</td>\n",
       "      <td>0.0</td>\n",
       "      <td>0.0</td>\n",
       "      <td>...</td>\n",
       "      <td>0.0</td>\n",
       "      <td>0.0</td>\n",
       "      <td>0.0</td>\n",
       "      <td>0.0</td>\n",
       "      <td>0.0</td>\n",
       "      <td>0.0</td>\n",
       "      <td>0.0</td>\n",
       "      <td>0.0</td>\n",
       "      <td>1.0</td>\n",
       "      <td>0.0</td>\n",
       "    </tr>\n",
       "    <tr>\n",
       "      <th>1</th>\n",
       "      <td>1</td>\n",
       "      <td>108590</td>\n",
       "      <td>1</td>\n",
       "      <td>0.0</td>\n",
       "      <td>0.0</td>\n",
       "      <td>0.0</td>\n",
       "      <td>0.0</td>\n",
       "      <td>0.0</td>\n",
       "      <td>0.0</td>\n",
       "      <td>0.0</td>\n",
       "      <td>...</td>\n",
       "      <td>1.0</td>\n",
       "      <td>0.0</td>\n",
       "      <td>0.0</td>\n",
       "      <td>0.0</td>\n",
       "      <td>0.0</td>\n",
       "      <td>0.0</td>\n",
       "      <td>0.0</td>\n",
       "      <td>0.0</td>\n",
       "      <td>1.0</td>\n",
       "      <td>0.0</td>\n",
       "    </tr>\n",
       "    <tr>\n",
       "      <th>2</th>\n",
       "      <td>1</td>\n",
       "      <td>5000</td>\n",
       "      <td>0</td>\n",
       "      <td>0.0</td>\n",
       "      <td>0.0</td>\n",
       "      <td>0.0</td>\n",
       "      <td>0.0</td>\n",
       "      <td>0.0</td>\n",
       "      <td>0.0</td>\n",
       "      <td>0.0</td>\n",
       "      <td>...</td>\n",
       "      <td>0.0</td>\n",
       "      <td>0.0</td>\n",
       "      <td>0.0</td>\n",
       "      <td>0.0</td>\n",
       "      <td>0.0</td>\n",
       "      <td>0.0</td>\n",
       "      <td>0.0</td>\n",
       "      <td>0.0</td>\n",
       "      <td>1.0</td>\n",
       "      <td>0.0</td>\n",
       "    </tr>\n",
       "    <tr>\n",
       "      <th>3</th>\n",
       "      <td>1</td>\n",
       "      <td>6692</td>\n",
       "      <td>1</td>\n",
       "      <td>0.0</td>\n",
       "      <td>0.0</td>\n",
       "      <td>0.0</td>\n",
       "      <td>0.0</td>\n",
       "      <td>0.0</td>\n",
       "      <td>0.0</td>\n",
       "      <td>0.0</td>\n",
       "      <td>...</td>\n",
       "      <td>0.0</td>\n",
       "      <td>1.0</td>\n",
       "      <td>0.0</td>\n",
       "      <td>0.0</td>\n",
       "      <td>0.0</td>\n",
       "      <td>0.0</td>\n",
       "      <td>0.0</td>\n",
       "      <td>0.0</td>\n",
       "      <td>1.0</td>\n",
       "      <td>0.0</td>\n",
       "    </tr>\n",
       "    <tr>\n",
       "      <th>4</th>\n",
       "      <td>1</td>\n",
       "      <td>142590</td>\n",
       "      <td>1</td>\n",
       "      <td>0.0</td>\n",
       "      <td>0.0</td>\n",
       "      <td>0.0</td>\n",
       "      <td>0.0</td>\n",
       "      <td>0.0</td>\n",
       "      <td>0.0</td>\n",
       "      <td>0.0</td>\n",
       "      <td>...</td>\n",
       "      <td>0.0</td>\n",
       "      <td>0.0</td>\n",
       "      <td>1.0</td>\n",
       "      <td>0.0</td>\n",
       "      <td>0.0</td>\n",
       "      <td>0.0</td>\n",
       "      <td>0.0</td>\n",
       "      <td>0.0</td>\n",
       "      <td>1.0</td>\n",
       "      <td>0.0</td>\n",
       "    </tr>\n",
       "  </tbody>\n",
       "</table>\n",
       "<p>5 rows × 117 columns</p>\n",
       "</div>"
      ],
      "text/plain": [
       "   STATUS  ASK_AMT  IS_SUCCESSFUL  APPLICATION_TYPE_T10  APPLICATION_TYPE_T12  \\\n",
       "0       1     5000              1                   1.0                   0.0   \n",
       "1       1   108590              1                   0.0                   0.0   \n",
       "2       1     5000              0                   0.0                   0.0   \n",
       "3       1     6692              1                   0.0                   0.0   \n",
       "4       1   142590              1                   0.0                   0.0   \n",
       "\n",
       "   APPLICATION_TYPE_T13  APPLICATION_TYPE_T14  APPLICATION_TYPE_T15  \\\n",
       "0                   0.0                   0.0                   0.0   \n",
       "1                   0.0                   0.0                   0.0   \n",
       "2                   0.0                   0.0                   0.0   \n",
       "3                   0.0                   0.0                   0.0   \n",
       "4                   0.0                   0.0                   0.0   \n",
       "\n",
       "   APPLICATION_TYPE_T17  APPLICATION_TYPE_T19  ...  INCOME_AMT_1-9999  \\\n",
       "0                   0.0                   0.0  ...                0.0   \n",
       "1                   0.0                   0.0  ...                1.0   \n",
       "2                   0.0                   0.0  ...                0.0   \n",
       "3                   0.0                   0.0  ...                0.0   \n",
       "4                   0.0                   0.0  ...                0.0   \n",
       "\n",
       "   INCOME_AMT_10000-24999  INCOME_AMT_100000-499999  INCOME_AMT_10M-50M  \\\n",
       "0                     0.0                       0.0                 0.0   \n",
       "1                     0.0                       0.0                 0.0   \n",
       "2                     0.0                       0.0                 0.0   \n",
       "3                     1.0                       0.0                 0.0   \n",
       "4                     0.0                       1.0                 0.0   \n",
       "\n",
       "   INCOME_AMT_1M-5M  INCOME_AMT_25000-99999  INCOME_AMT_50M+  \\\n",
       "0               0.0                     0.0              0.0   \n",
       "1               0.0                     0.0              0.0   \n",
       "2               0.0                     0.0              0.0   \n",
       "3               0.0                     0.0              0.0   \n",
       "4               0.0                     0.0              0.0   \n",
       "\n",
       "   INCOME_AMT_5M-10M  SPECIAL_CONSIDERATIONS_N  SPECIAL_CONSIDERATIONS_Y  \n",
       "0                0.0                       1.0                       0.0  \n",
       "1                0.0                       1.0                       0.0  \n",
       "2                0.0                       1.0                       0.0  \n",
       "3                0.0                       1.0                       0.0  \n",
       "4                0.0                       1.0                       0.0  \n",
       "\n",
       "[5 rows x 117 columns]"
      ]
     },
     "metadata": {},
     "execution_count": 10
    }
   ],
   "metadata": {}
  },
  {
   "cell_type": "markdown",
   "source": [
    "### Step 5: Using the preprocessed data, create the features (`X`) and target (`y`) datasets. The target dataset should be defined by the preprocessed DataFrame column “IS_SUCCESSFUL”. The remaining columns should define the features dataset. \n",
    "\n"
   ],
   "metadata": {}
  },
  {
   "cell_type": "code",
   "execution_count": 11,
   "source": [
    "# Define the target set y using the IS_SUCCESSFUL column\r\n",
    "y = encoded_df['IS_SUCCESSFUL']\r\n",
    "\r\n",
    "# Display a sample of y\r\n",
    "y[:5]\r\n"
   ],
   "outputs": [
    {
     "output_type": "execute_result",
     "data": {
      "text/plain": [
       "0    1\n",
       "1    1\n",
       "2    0\n",
       "3    1\n",
       "4    1\n",
       "Name: IS_SUCCESSFUL, dtype: int64"
      ]
     },
     "metadata": {},
     "execution_count": 11
    }
   ],
   "metadata": {}
  },
  {
   "cell_type": "code",
   "execution_count": 12,
   "source": [
    "# Define features set X by selecting all columns but IS_SUCCESSFUL\r\n",
    "X = encoded_df.drop(columns='IS_SUCCESSFUL')\r\n",
    "\r\n",
    "# Review the features DataFrame\r\n",
    "X[:5]\r\n"
   ],
   "outputs": [
    {
     "output_type": "execute_result",
     "data": {
      "text/html": [
       "<div>\n",
       "<style scoped>\n",
       "    .dataframe tbody tr th:only-of-type {\n",
       "        vertical-align: middle;\n",
       "    }\n",
       "\n",
       "    .dataframe tbody tr th {\n",
       "        vertical-align: top;\n",
       "    }\n",
       "\n",
       "    .dataframe thead th {\n",
       "        text-align: right;\n",
       "    }\n",
       "</style>\n",
       "<table border=\"1\" class=\"dataframe\">\n",
       "  <thead>\n",
       "    <tr style=\"text-align: right;\">\n",
       "      <th></th>\n",
       "      <th>STATUS</th>\n",
       "      <th>ASK_AMT</th>\n",
       "      <th>APPLICATION_TYPE_T10</th>\n",
       "      <th>APPLICATION_TYPE_T12</th>\n",
       "      <th>APPLICATION_TYPE_T13</th>\n",
       "      <th>APPLICATION_TYPE_T14</th>\n",
       "      <th>APPLICATION_TYPE_T15</th>\n",
       "      <th>APPLICATION_TYPE_T17</th>\n",
       "      <th>APPLICATION_TYPE_T19</th>\n",
       "      <th>APPLICATION_TYPE_T2</th>\n",
       "      <th>...</th>\n",
       "      <th>INCOME_AMT_1-9999</th>\n",
       "      <th>INCOME_AMT_10000-24999</th>\n",
       "      <th>INCOME_AMT_100000-499999</th>\n",
       "      <th>INCOME_AMT_10M-50M</th>\n",
       "      <th>INCOME_AMT_1M-5M</th>\n",
       "      <th>INCOME_AMT_25000-99999</th>\n",
       "      <th>INCOME_AMT_50M+</th>\n",
       "      <th>INCOME_AMT_5M-10M</th>\n",
       "      <th>SPECIAL_CONSIDERATIONS_N</th>\n",
       "      <th>SPECIAL_CONSIDERATIONS_Y</th>\n",
       "    </tr>\n",
       "  </thead>\n",
       "  <tbody>\n",
       "    <tr>\n",
       "      <th>0</th>\n",
       "      <td>1</td>\n",
       "      <td>5000</td>\n",
       "      <td>1.0</td>\n",
       "      <td>0.0</td>\n",
       "      <td>0.0</td>\n",
       "      <td>0.0</td>\n",
       "      <td>0.0</td>\n",
       "      <td>0.0</td>\n",
       "      <td>0.0</td>\n",
       "      <td>0.0</td>\n",
       "      <td>...</td>\n",
       "      <td>0.0</td>\n",
       "      <td>0.0</td>\n",
       "      <td>0.0</td>\n",
       "      <td>0.0</td>\n",
       "      <td>0.0</td>\n",
       "      <td>0.0</td>\n",
       "      <td>0.0</td>\n",
       "      <td>0.0</td>\n",
       "      <td>1.0</td>\n",
       "      <td>0.0</td>\n",
       "    </tr>\n",
       "    <tr>\n",
       "      <th>1</th>\n",
       "      <td>1</td>\n",
       "      <td>108590</td>\n",
       "      <td>0.0</td>\n",
       "      <td>0.0</td>\n",
       "      <td>0.0</td>\n",
       "      <td>0.0</td>\n",
       "      <td>0.0</td>\n",
       "      <td>0.0</td>\n",
       "      <td>0.0</td>\n",
       "      <td>0.0</td>\n",
       "      <td>...</td>\n",
       "      <td>1.0</td>\n",
       "      <td>0.0</td>\n",
       "      <td>0.0</td>\n",
       "      <td>0.0</td>\n",
       "      <td>0.0</td>\n",
       "      <td>0.0</td>\n",
       "      <td>0.0</td>\n",
       "      <td>0.0</td>\n",
       "      <td>1.0</td>\n",
       "      <td>0.0</td>\n",
       "    </tr>\n",
       "    <tr>\n",
       "      <th>2</th>\n",
       "      <td>1</td>\n",
       "      <td>5000</td>\n",
       "      <td>0.0</td>\n",
       "      <td>0.0</td>\n",
       "      <td>0.0</td>\n",
       "      <td>0.0</td>\n",
       "      <td>0.0</td>\n",
       "      <td>0.0</td>\n",
       "      <td>0.0</td>\n",
       "      <td>0.0</td>\n",
       "      <td>...</td>\n",
       "      <td>0.0</td>\n",
       "      <td>0.0</td>\n",
       "      <td>0.0</td>\n",
       "      <td>0.0</td>\n",
       "      <td>0.0</td>\n",
       "      <td>0.0</td>\n",
       "      <td>0.0</td>\n",
       "      <td>0.0</td>\n",
       "      <td>1.0</td>\n",
       "      <td>0.0</td>\n",
       "    </tr>\n",
       "    <tr>\n",
       "      <th>3</th>\n",
       "      <td>1</td>\n",
       "      <td>6692</td>\n",
       "      <td>0.0</td>\n",
       "      <td>0.0</td>\n",
       "      <td>0.0</td>\n",
       "      <td>0.0</td>\n",
       "      <td>0.0</td>\n",
       "      <td>0.0</td>\n",
       "      <td>0.0</td>\n",
       "      <td>0.0</td>\n",
       "      <td>...</td>\n",
       "      <td>0.0</td>\n",
       "      <td>1.0</td>\n",
       "      <td>0.0</td>\n",
       "      <td>0.0</td>\n",
       "      <td>0.0</td>\n",
       "      <td>0.0</td>\n",
       "      <td>0.0</td>\n",
       "      <td>0.0</td>\n",
       "      <td>1.0</td>\n",
       "      <td>0.0</td>\n",
       "    </tr>\n",
       "    <tr>\n",
       "      <th>4</th>\n",
       "      <td>1</td>\n",
       "      <td>142590</td>\n",
       "      <td>0.0</td>\n",
       "      <td>0.0</td>\n",
       "      <td>0.0</td>\n",
       "      <td>0.0</td>\n",
       "      <td>0.0</td>\n",
       "      <td>0.0</td>\n",
       "      <td>0.0</td>\n",
       "      <td>0.0</td>\n",
       "      <td>...</td>\n",
       "      <td>0.0</td>\n",
       "      <td>0.0</td>\n",
       "      <td>1.0</td>\n",
       "      <td>0.0</td>\n",
       "      <td>0.0</td>\n",
       "      <td>0.0</td>\n",
       "      <td>0.0</td>\n",
       "      <td>0.0</td>\n",
       "      <td>1.0</td>\n",
       "      <td>0.0</td>\n",
       "    </tr>\n",
       "  </tbody>\n",
       "</table>\n",
       "<p>5 rows × 116 columns</p>\n",
       "</div>"
      ],
      "text/plain": [
       "   STATUS  ASK_AMT  APPLICATION_TYPE_T10  APPLICATION_TYPE_T12  \\\n",
       "0       1     5000                   1.0                   0.0   \n",
       "1       1   108590                   0.0                   0.0   \n",
       "2       1     5000                   0.0                   0.0   \n",
       "3       1     6692                   0.0                   0.0   \n",
       "4       1   142590                   0.0                   0.0   \n",
       "\n",
       "   APPLICATION_TYPE_T13  APPLICATION_TYPE_T14  APPLICATION_TYPE_T15  \\\n",
       "0                   0.0                   0.0                   0.0   \n",
       "1                   0.0                   0.0                   0.0   \n",
       "2                   0.0                   0.0                   0.0   \n",
       "3                   0.0                   0.0                   0.0   \n",
       "4                   0.0                   0.0                   0.0   \n",
       "\n",
       "   APPLICATION_TYPE_T17  APPLICATION_TYPE_T19  APPLICATION_TYPE_T2  ...  \\\n",
       "0                   0.0                   0.0                  0.0  ...   \n",
       "1                   0.0                   0.0                  0.0  ...   \n",
       "2                   0.0                   0.0                  0.0  ...   \n",
       "3                   0.0                   0.0                  0.0  ...   \n",
       "4                   0.0                   0.0                  0.0  ...   \n",
       "\n",
       "   INCOME_AMT_1-9999  INCOME_AMT_10000-24999  INCOME_AMT_100000-499999  \\\n",
       "0                0.0                     0.0                       0.0   \n",
       "1                1.0                     0.0                       0.0   \n",
       "2                0.0                     0.0                       0.0   \n",
       "3                0.0                     1.0                       0.0   \n",
       "4                0.0                     0.0                       1.0   \n",
       "\n",
       "   INCOME_AMT_10M-50M  INCOME_AMT_1M-5M  INCOME_AMT_25000-99999  \\\n",
       "0                 0.0               0.0                     0.0   \n",
       "1                 0.0               0.0                     0.0   \n",
       "2                 0.0               0.0                     0.0   \n",
       "3                 0.0               0.0                     0.0   \n",
       "4                 0.0               0.0                     0.0   \n",
       "\n",
       "   INCOME_AMT_50M+  INCOME_AMT_5M-10M  SPECIAL_CONSIDERATIONS_N  \\\n",
       "0              0.0                0.0                       1.0   \n",
       "1              0.0                0.0                       1.0   \n",
       "2              0.0                0.0                       1.0   \n",
       "3              0.0                0.0                       1.0   \n",
       "4              0.0                0.0                       1.0   \n",
       "\n",
       "   SPECIAL_CONSIDERATIONS_Y  \n",
       "0                       0.0  \n",
       "1                       0.0  \n",
       "2                       0.0  \n",
       "3                       0.0  \n",
       "4                       0.0  \n",
       "\n",
       "[5 rows x 116 columns]"
      ]
     },
     "metadata": {},
     "execution_count": 12
    }
   ],
   "metadata": {}
  },
  {
   "cell_type": "markdown",
   "source": [
    "### Step 6: Split the features and target sets into training and testing datasets.\n"
   ],
   "metadata": {}
  },
  {
   "cell_type": "code",
   "execution_count": 13,
   "source": [
    "# Split the preprocessed data into a training and testing dataset\r\n",
    "# Assign the function a random_state equal to 1\r\n",
    "X_train, X_test, y_train, y_test = train_test_split(X, y, random_state=1)\r\n"
   ],
   "outputs": [],
   "metadata": {}
  },
  {
   "cell_type": "markdown",
   "source": [
    "### Step 7: Use scikit-learn's `StandardScaler` to scale the features data."
   ],
   "metadata": {}
  },
  {
   "cell_type": "code",
   "execution_count": 14,
   "source": [
    "# Create a StandardScaler instance\r\n",
    "scaler = StandardScaler()\r\n",
    "\r\n",
    "# Fit the scaler to the features training dataset\r\n",
    "X_scaler = scaler.fit(X_train)\r\n",
    "\r\n",
    "# Fit the scaler to the features training dataset\r\n",
    "X_train_scaled = X_scaler.transform(X_train)\r\n",
    "X_test_scaled = X_scaler.transform(X_test)\r\n"
   ],
   "outputs": [],
   "metadata": {}
  },
  {
   "cell_type": "markdown",
   "source": [
    "---\n",
    "\n",
    "## Compile and Evaluate a Binary Classification Model Using a Neural Network"
   ],
   "metadata": {}
  },
  {
   "cell_type": "markdown",
   "source": [
    "### Step 1: Create a deep neural network by assigning the number of input features, the number of layers, and the number of neurons on each layer using Tensorflow’s Keras.\n",
    "\n",
    "> **Hint** You can start with a two-layer deep neural network model that uses the `relu` activation function for both layers.\n"
   ],
   "metadata": {}
  },
  {
   "cell_type": "code",
   "execution_count": 15,
   "source": [
    "# Define the the number of inputs (features) to the model\r\n",
    "number_input_features = 116\r\n",
    "\r\n",
    "# Review the number of features\r\n",
    "number_input_features = 1\r\n"
   ],
   "outputs": [
    {
     "output_type": "execute_result",
     "data": {
      "text/plain": [
       "116"
      ]
     },
     "metadata": {},
     "execution_count": 15
    }
   ],
   "metadata": {}
  },
  {
   "cell_type": "code",
   "execution_count": 16,
   "source": [
    "# Define the number of neurons in the output layer\r\n",
    "number_output_neurons = 1"
   ],
   "outputs": [],
   "metadata": {}
  },
  {
   "cell_type": "code",
   "execution_count": 17,
   "source": [
    "# Define the number of hidden nodes for the first hidden layer\r\n",
    "hidden_nodes_layer1 =  5\r\n",
    "\r\n",
    "# Review the number hidden nodes in the first layer\r\n",
    "hidden_nodes_layer1\r\n"
   ],
   "outputs": [
    {
     "output_type": "execute_result",
     "data": {
      "text/plain": [
       "5"
      ]
     },
     "metadata": {},
     "execution_count": 17
    }
   ],
   "metadata": {}
  },
  {
   "cell_type": "code",
   "execution_count": 18,
   "source": [
    "# Define the number of hidden nodes for the second hidden layer\r\n",
    "hidden_nodes_layer2 =  5\r\n",
    "\r\n",
    "# Review the number hidden nodes in the second layer\r\n",
    "hidden_nodes_layer2\r\n"
   ],
   "outputs": [
    {
     "output_type": "execute_result",
     "data": {
      "text/plain": [
       "5"
      ]
     },
     "metadata": {},
     "execution_count": 18
    }
   ],
   "metadata": {}
  },
  {
   "cell_type": "code",
   "execution_count": 19,
   "source": [
    "# Create the Sequential model instance\r\n",
    "nn = Sequential()\r\n"
   ],
   "outputs": [],
   "metadata": {}
  },
  {
   "cell_type": "code",
   "execution_count": 20,
   "source": [
    "# Add the first hidden layer\r\n",
    "nn.add(Dense(units=hidden_nodes_layer1, input_dim=number_input_features, activation='relu'))\r\n"
   ],
   "outputs": [],
   "metadata": {}
  },
  {
   "cell_type": "code",
   "execution_count": 21,
   "source": [
    "# Add the second hidden layer\r\n",
    "nn.add(Dense(units=hidden_nodes_layer2, activation='relu'))\r\n"
   ],
   "outputs": [],
   "metadata": {}
  },
  {
   "cell_type": "code",
   "execution_count": 23,
   "source": [
    "# Add the output layer to the model specifying the number of output neurons and activation function\r\n",
    "nn.add(Dense(units=number_output_neurons, activation='sigmoid'))\r\n"
   ],
   "outputs": [],
   "metadata": {}
  },
  {
   "cell_type": "code",
   "execution_count": 24,
   "source": [
    "# Display the Sequential model summary\r\n",
    "nn.summary()\r\n"
   ],
   "outputs": [
    {
     "output_type": "stream",
     "name": "stdout",
     "text": [
      "Model: \"sequential\"\n",
      "_________________________________________________________________\n",
      "Layer (type)                 Output Shape              Param #   \n",
      "=================================================================\n",
      "dense (Dense)                (None, 5)                 585       \n",
      "_________________________________________________________________\n",
      "dense_1 (Dense)              (None, 5)                 30        \n",
      "_________________________________________________________________\n",
      "dense_2 (Dense)              (None, 1)                 6         \n",
      "_________________________________________________________________\n",
      "dense_3 (Dense)              (None, 1)                 2         \n",
      "=================================================================\n",
      "Total params: 623\n",
      "Trainable params: 623\n",
      "Non-trainable params: 0\n",
      "_________________________________________________________________\n"
     ]
    }
   ],
   "metadata": {}
  },
  {
   "cell_type": "markdown",
   "source": [
    "### Step 2: Compile and fit the model using the `binary_crossentropy` loss function, the `adam` optimizer, and the `accuracy` evaluation metric.\n"
   ],
   "metadata": {}
  },
  {
   "cell_type": "code",
   "execution_count": 25,
   "source": [
    "# Compile the Sequential model\r\n",
    "nn.compile(loss='binary_crossentropy', optimizer='adam', metrics=['accuracy'])\r\n"
   ],
   "outputs": [],
   "metadata": {}
  },
  {
   "cell_type": "code",
   "execution_count": 26,
   "source": [
    "# Fit the model using 50 epochs and the training data\r\n",
    "model = nn.fit(X, y, validation_split=0.3, epochs=50)\r\n"
   ],
   "outputs": [
    {
     "output_type": "stream",
     "name": "stdout",
     "text": [
      "Epoch 1/50\n",
      "751/751 [==============================] - 4s 2ms/step - loss: 0.6902 - accuracy: 0.5434 - val_loss: 0.6950 - val_accuracy: 0.5064\n",
      "Epoch 2/50\n",
      "751/751 [==============================] - 1s 1ms/step - loss: 0.6894 - accuracy: 0.5435 - val_loss: 0.6955 - val_accuracy: 0.5064\n",
      "Epoch 3/50\n",
      "751/751 [==============================] - 1s 1ms/step - loss: 0.6894 - accuracy: 0.5435 - val_loss: 0.6959 - val_accuracy: 0.5064\n",
      "Epoch 4/50\n",
      "751/751 [==============================] - 1s 1ms/step - loss: 0.6894 - accuracy: 0.5435 - val_loss: 0.6958 - val_accuracy: 0.5064\n",
      "Epoch 5/50\n",
      "751/751 [==============================] - 1s 1ms/step - loss: 0.6894 - accuracy: 0.5435 - val_loss: 0.6958 - val_accuracy: 0.5064\n",
      "Epoch 6/50\n",
      "751/751 [==============================] - 1s 1ms/step - loss: 0.6894 - accuracy: 0.5435 - val_loss: 0.6956 - val_accuracy: 0.5064\n",
      "Epoch 7/50\n",
      "751/751 [==============================] - 1s 1ms/step - loss: 0.6894 - accuracy: 0.5435 - val_loss: 0.6956 - val_accuracy: 0.5064\n",
      "Epoch 8/50\n",
      "751/751 [==============================] - 1s 1ms/step - loss: 0.6894 - accuracy: 0.5435 - val_loss: 0.6959 - val_accuracy: 0.5064\n",
      "Epoch 9/50\n",
      "751/751 [==============================] - 1s 1ms/step - loss: 0.6894 - accuracy: 0.5435 - val_loss: 0.6960 - val_accuracy: 0.5064\n",
      "Epoch 10/50\n",
      "751/751 [==============================] - 1s 1ms/step - loss: 0.6894 - accuracy: 0.5435 - val_loss: 0.6964 - val_accuracy: 0.5064\n",
      "Epoch 11/50\n",
      "751/751 [==============================] - 1s 1ms/step - loss: 0.6894 - accuracy: 0.5435 - val_loss: 0.6958 - val_accuracy: 0.5064\n",
      "Epoch 12/50\n",
      "751/751 [==============================] - 1s 984us/step - loss: 0.6894 - accuracy: 0.5435 - val_loss: 0.6956 - val_accuracy: 0.5064\n",
      "Epoch 13/50\n",
      "751/751 [==============================] - 1s 1ms/step - loss: 0.6894 - accuracy: 0.5435 - val_loss: 0.6959 - val_accuracy: 0.5064\n",
      "Epoch 14/50\n",
      "751/751 [==============================] - 1s 991us/step - loss: 0.6894 - accuracy: 0.5435 - val_loss: 0.6962 - val_accuracy: 0.5064\n",
      "Epoch 15/50\n",
      "751/751 [==============================] - 1s 1ms/step - loss: 0.6894 - accuracy: 0.5435 - val_loss: 0.6959 - val_accuracy: 0.5064\n",
      "Epoch 16/50\n",
      "751/751 [==============================] - 1s 1ms/step - loss: 0.6894 - accuracy: 0.5435 - val_loss: 0.6958 - val_accuracy: 0.5064\n",
      "Epoch 17/50\n",
      "751/751 [==============================] - 1s 973us/step - loss: 0.6894 - accuracy: 0.5435 - val_loss: 0.6959 - val_accuracy: 0.5064\n",
      "Epoch 18/50\n",
      "751/751 [==============================] - 1s 1ms/step - loss: 0.6894 - accuracy: 0.5435 - val_loss: 0.6958 - val_accuracy: 0.5064\n",
      "Epoch 19/50\n",
      "751/751 [==============================] - 1s 990us/step - loss: 0.6894 - accuracy: 0.5435 - val_loss: 0.6961 - val_accuracy: 0.5064\n",
      "Epoch 20/50\n",
      "751/751 [==============================] - 1s 995us/step - loss: 0.6894 - accuracy: 0.5435 - val_loss: 0.6956 - val_accuracy: 0.5064\n",
      "Epoch 21/50\n",
      "751/751 [==============================] - 1s 1ms/step - loss: 0.6894 - accuracy: 0.5435 - val_loss: 0.6955 - val_accuracy: 0.5064\n",
      "Epoch 22/50\n",
      "751/751 [==============================] - 1s 1ms/step - loss: 0.6894 - accuracy: 0.5435 - val_loss: 0.6960 - val_accuracy: 0.5064\n",
      "Epoch 23/50\n",
      "751/751 [==============================] - 1s 1ms/step - loss: 0.6894 - accuracy: 0.5435 - val_loss: 0.6961 - val_accuracy: 0.5064\n",
      "Epoch 24/50\n",
      "751/751 [==============================] - 1s 1ms/step - loss: 0.6894 - accuracy: 0.5435 - val_loss: 0.6960 - val_accuracy: 0.5064\n",
      "Epoch 25/50\n",
      "751/751 [==============================] - 1s 985us/step - loss: 0.6894 - accuracy: 0.5435 - val_loss: 0.6956 - val_accuracy: 0.5064\n",
      "Epoch 26/50\n",
      "751/751 [==============================] - 1s 987us/step - loss: 0.6894 - accuracy: 0.5435 - val_loss: 0.6958 - val_accuracy: 0.5064\n",
      "Epoch 27/50\n",
      "751/751 [==============================] - 1s 981us/step - loss: 0.6894 - accuracy: 0.5435 - val_loss: 0.6956 - val_accuracy: 0.5064\n",
      "Epoch 28/50\n",
      "751/751 [==============================] - 1s 2ms/step - loss: 0.6894 - accuracy: 0.5435 - val_loss: 0.6961 - val_accuracy: 0.5064\n",
      "Epoch 29/50\n",
      "751/751 [==============================] - 1s 2ms/step - loss: 0.6894 - accuracy: 0.5435 - val_loss: 0.6959 - val_accuracy: 0.5064\n",
      "Epoch 30/50\n",
      "751/751 [==============================] - 1s 2ms/step - loss: 0.6894 - accuracy: 0.5435 - val_loss: 0.6960 - val_accuracy: 0.5064\n",
      "Epoch 31/50\n",
      "751/751 [==============================] - 1s 2ms/step - loss: 0.6894 - accuracy: 0.5435 - val_loss: 0.6960 - val_accuracy: 0.5064\n",
      "Epoch 32/50\n",
      "751/751 [==============================] - 1s 2ms/step - loss: 0.6894 - accuracy: 0.5435 - val_loss: 0.6958 - val_accuracy: 0.5064\n",
      "Epoch 33/50\n",
      "751/751 [==============================] - 1s 2ms/step - loss: 0.6894 - accuracy: 0.5435 - val_loss: 0.6957 - val_accuracy: 0.5064\n",
      "Epoch 34/50\n",
      "751/751 [==============================] - 1s 2ms/step - loss: 0.6894 - accuracy: 0.5435 - val_loss: 0.6959 - val_accuracy: 0.5064\n",
      "Epoch 35/50\n",
      "751/751 [==============================] - 1s 2ms/step - loss: 0.6894 - accuracy: 0.5435 - val_loss: 0.6958 - val_accuracy: 0.5064\n",
      "Epoch 36/50\n",
      "751/751 [==============================] - 1s 2ms/step - loss: 0.6894 - accuracy: 0.5435 - val_loss: 0.6959 - val_accuracy: 0.5064\n",
      "Epoch 37/50\n",
      "751/751 [==============================] - 1s 2ms/step - loss: 0.6894 - accuracy: 0.5435 - val_loss: 0.6953 - val_accuracy: 0.5064\n",
      "Epoch 38/50\n",
      "751/751 [==============================] - 1s 2ms/step - loss: 0.6894 - accuracy: 0.5435 - val_loss: 0.6959 - val_accuracy: 0.5064\n",
      "Epoch 39/50\n",
      "751/751 [==============================] - 1s 2ms/step - loss: 0.6894 - accuracy: 0.5435 - val_loss: 0.6958 - val_accuracy: 0.5064\n",
      "Epoch 40/50\n",
      "751/751 [==============================] - 1s 2ms/step - loss: 0.6894 - accuracy: 0.5435 - val_loss: 0.6956 - val_accuracy: 0.5064\n",
      "Epoch 41/50\n",
      "751/751 [==============================] - 1s 2ms/step - loss: 0.6894 - accuracy: 0.5435 - val_loss: 0.6958 - val_accuracy: 0.5064\n",
      "Epoch 42/50\n",
      "751/751 [==============================] - 1s 1ms/step - loss: 0.6894 - accuracy: 0.5435 - val_loss: 0.6960 - val_accuracy: 0.5064\n",
      "Epoch 43/50\n",
      "751/751 [==============================] - 1s 985us/step - loss: 0.6894 - accuracy: 0.5435 - val_loss: 0.6955 - val_accuracy: 0.5064\n",
      "Epoch 44/50\n",
      "751/751 [==============================] - 1s 997us/step - loss: 0.6894 - accuracy: 0.5435 - val_loss: 0.6955 - val_accuracy: 0.5064\n",
      "Epoch 45/50\n",
      "751/751 [==============================] - 1s 994us/step - loss: 0.6894 - accuracy: 0.5435 - val_loss: 0.6960 - val_accuracy: 0.5064\n",
      "Epoch 46/50\n",
      "751/751 [==============================] - 1s 984us/step - loss: 0.6894 - accuracy: 0.5435 - val_loss: 0.6963 - val_accuracy: 0.5064\n",
      "Epoch 47/50\n",
      "751/751 [==============================] - 1s 983us/step - loss: 0.6894 - accuracy: 0.5435 - val_loss: 0.6962 - val_accuracy: 0.5064\n",
      "Epoch 48/50\n",
      "751/751 [==============================] - 1s 1ms/step - loss: 0.6894 - accuracy: 0.5435 - val_loss: 0.6961 - val_accuracy: 0.5064\n",
      "Epoch 49/50\n",
      "751/751 [==============================] - 1s 1ms/step - loss: 0.6894 - accuracy: 0.5435 - val_loss: 0.6960 - val_accuracy: 0.5064\n",
      "Epoch 50/50\n",
      "751/751 [==============================] - 1s 1ms/step - loss: 0.6894 - accuracy: 0.5435 - val_loss: 0.6957 - val_accuracy: 0.5064\n"
     ]
    }
   ],
   "metadata": {}
  },
  {
   "cell_type": "markdown",
   "source": [
    "### Step 3: Evaluate the model using the test data to determine the model’s loss and accuracy.\n"
   ],
   "metadata": {}
  },
  {
   "cell_type": "code",
   "execution_count": 27,
   "source": [
    "# Evaluate the model loss and accuracy metrics using the evaluate method and the test data\r\n",
    "model_loss, model_accuracy = nn.evaluate(X_test_scaled, y_test, verbose=2)\r\n",
    "\r\n",
    "# Display the model loss and accuracy results\r\n",
    "print(f\"Loss: {model_loss}, Accuracy: {model_accuracy}\")"
   ],
   "outputs": [
    {
     "output_type": "stream",
     "name": "stdout",
     "text": [
      "268/268 - 0s - loss: 0.6935 - accuracy: 0.5284\n",
      "Loss: 0.6935482025146484, Accuracy: 0.528396487236023\n"
     ]
    }
   ],
   "metadata": {}
  },
  {
   "cell_type": "markdown",
   "source": [
    "### Step 4: Save and export your model to an HDF5 file, and name the file `AlphabetSoup.h5`. \n"
   ],
   "metadata": {}
  },
  {
   "cell_type": "code",
   "execution_count": 28,
   "source": [
    "# Set the model's file path\r\n",
    "file_path = 'Resources/model.h5'\r\n",
    "\r\n",
    "# Export your model to a HDF5 file\r\n",
    "nn.save_weights(file_path)\r\n"
   ],
   "outputs": [],
   "metadata": {}
  },
  {
   "cell_type": "markdown",
   "source": [
    "---\n",
    "\n",
    "## Optimize the neural network model\n"
   ],
   "metadata": {}
  },
  {
   "cell_type": "markdown",
   "source": [
    "### Step 1: Define at least three new deep neural network models (resulting in the original plus 3 optimization attempts). With each, try to improve on your first model’s predictive accuracy.\n",
    "\n",
    "> **Rewind** Recall that perfect accuracy has a value of 1, so accuracy improves as its value moves closer to 1. To optimize your model for a predictive accuracy as close to 1 as possible, you can use any or all of the following techniques:\n",
    ">\n",
    "> * Adjust the input data by dropping different features columns to ensure that no variables or outliers confuse the model.\n",
    ">\n",
    "> * Add more neurons (nodes) to a hidden layer.\n",
    ">\n",
    "> * Add more hidden layers.\n",
    ">\n",
    "> * Use different activation functions for the hidden layers.\n",
    ">\n",
    "> * Add to or reduce the number of epochs in the training regimen.\n"
   ],
   "metadata": {}
  },
  {
   "cell_type": "markdown",
   "source": [
    "### Alternative Model 1"
   ],
   "metadata": {}
  },
  {
   "cell_type": "code",
   "execution_count": 29,
   "source": [
    "# Define the the number of inputs (features) to the model\r\n",
    "number_input_features = len(X_train.iloc[0])\r\n",
    "\r\n",
    "# Review the number of features\r\n",
    "number_input_features"
   ],
   "outputs": [
    {
     "output_type": "execute_result",
     "data": {
      "text/plain": [
       "116"
      ]
     },
     "metadata": {},
     "execution_count": 29
    }
   ],
   "metadata": {}
  },
  {
   "cell_type": "code",
   "execution_count": 30,
   "source": [
    "# Define the number of neurons in the output layer\r\n",
    "number_output_neurons_A1 = 1"
   ],
   "outputs": [],
   "metadata": {}
  },
  {
   "cell_type": "code",
   "execution_count": 31,
   "source": [
    "# Define the number of hidden nodes for the first hidden layer\r\n",
    "hidden_nodes_layer1_A1 = 10\r\n",
    "\r\n",
    "# Review the number of hidden nodes in the first layer\r\n",
    "hidden_nodes_layer1_A1"
   ],
   "outputs": [
    {
     "output_type": "execute_result",
     "data": {
      "text/plain": [
       "10"
      ]
     },
     "metadata": {},
     "execution_count": 31
    }
   ],
   "metadata": {}
  },
  {
   "cell_type": "code",
   "execution_count": 32,
   "source": [
    "# Create the Sequential model instance\r\n",
    "nn_A1 = Sequential()"
   ],
   "outputs": [],
   "metadata": {}
  },
  {
   "cell_type": "code",
   "execution_count": 33,
   "source": [
    "# First hidden layer\r\n",
    "nn_A1.add(Dense(units=hidden_nodes_layer1_A1, input_dim=number_input_features, activation='relu'))\r\n",
    "\r\n",
    "\r\n",
    "# Output layer\r\n",
    "nn_A1.add(Dense(units=number_output_neurons_A1,activation='linear'))\r\n",
    "\r\n",
    "\r\n",
    "# Check the structure of the model\r\n",
    "nn_A1.summary()"
   ],
   "outputs": [
    {
     "output_type": "stream",
     "name": "stdout",
     "text": [
      "Model: \"sequential_1\"\n",
      "_________________________________________________________________\n",
      "Layer (type)                 Output Shape              Param #   \n",
      "=================================================================\n",
      "dense_4 (Dense)              (None, 10)                1170      \n",
      "_________________________________________________________________\n",
      "dense_5 (Dense)              (None, 1)                 11        \n",
      "=================================================================\n",
      "Total params: 1,181\n",
      "Trainable params: 1,181\n",
      "Non-trainable params: 0\n",
      "_________________________________________________________________\n"
     ]
    }
   ],
   "metadata": {}
  },
  {
   "cell_type": "code",
   "execution_count": 34,
   "source": [
    "# Compile the Sequential model\r\n",
    "nn_A1.compile(loss='binary_crossentropy', optimizer='adam', metrics=['accuracy'])\r\n"
   ],
   "outputs": [],
   "metadata": {}
  },
  {
   "cell_type": "code",
   "execution_count": 35,
   "source": [
    "# Fit the model using 50 epochs and the training data\r\n",
    "fit_model_A1 = nn_A1.fit(X, y, validation_split=0.3, epochs=50)\r\n"
   ],
   "outputs": [
    {
     "output_type": "stream",
     "name": "stdout",
     "text": [
      "Epoch 1/50\n",
      "751/751 [==============================] - 2s 2ms/step - loss: 8.3842 - accuracy: 0.4565 - val_loss: 7.8114 - val_accuracy: 0.4936\n",
      "Epoch 2/50\n",
      "751/751 [==============================] - 1s 1ms/step - loss: 8.3842 - accuracy: 0.4565 - val_loss: 7.8114 - val_accuracy: 0.4936\n",
      "Epoch 3/50\n",
      "751/751 [==============================] - 2s 2ms/step - loss: 8.3842 - accuracy: 0.4565 - val_loss: 7.8114 - val_accuracy: 0.4936\n",
      "Epoch 4/50\n",
      "751/751 [==============================] - 2s 3ms/step - loss: 8.3842 - accuracy: 0.4565 - val_loss: 7.8114 - val_accuracy: 0.4936\n",
      "Epoch 5/50\n",
      "751/751 [==============================] - 1s 1ms/step - loss: 8.3842 - accuracy: 0.4565 - val_loss: 7.8114 - val_accuracy: 0.4936\n",
      "Epoch 6/50\n",
      "751/751 [==============================] - 1s 1ms/step - loss: 8.3842 - accuracy: 0.4565 - val_loss: 7.8114 - val_accuracy: 0.4936\n",
      "Epoch 7/50\n",
      "751/751 [==============================] - 1s 1ms/step - loss: 8.3842 - accuracy: 0.4565 - val_loss: 7.8114 - val_accuracy: 0.4936\n",
      "Epoch 8/50\n",
      "751/751 [==============================] - 1s 1ms/step - loss: 8.3842 - accuracy: 0.4565 - val_loss: 7.8114 - val_accuracy: 0.4936\n",
      "Epoch 9/50\n",
      "751/751 [==============================] - 1s 1ms/step - loss: 8.3842 - accuracy: 0.4565 - val_loss: 7.8114 - val_accuracy: 0.4936\n",
      "Epoch 10/50\n",
      "751/751 [==============================] - 1s 1ms/step - loss: 8.3842 - accuracy: 0.4565 - val_loss: 7.8114 - val_accuracy: 0.4936\n",
      "Epoch 11/50\n",
      "751/751 [==============================] - 1s 1ms/step - loss: 8.3842 - accuracy: 0.4565 - val_loss: 7.8114 - val_accuracy: 0.4936\n",
      "Epoch 12/50\n",
      "751/751 [==============================] - 1s 1ms/step - loss: 8.3842 - accuracy: 0.4565 - val_loss: 7.8114 - val_accuracy: 0.4936\n",
      "Epoch 13/50\n",
      "751/751 [==============================] - 1s 1ms/step - loss: 8.3842 - accuracy: 0.4565 - val_loss: 7.8114 - val_accuracy: 0.4936\n",
      "Epoch 14/50\n",
      "751/751 [==============================] - 1s 2ms/step - loss: 8.3842 - accuracy: 0.4565 - val_loss: 7.8114 - val_accuracy: 0.4936\n",
      "Epoch 15/50\n",
      "751/751 [==============================] - 1s 1ms/step - loss: 8.3842 - accuracy: 0.4565 - val_loss: 7.8114 - val_accuracy: 0.4936\n",
      "Epoch 16/50\n",
      "751/751 [==============================] - 1s 944us/step - loss: 8.3842 - accuracy: 0.4565 - val_loss: 7.8114 - val_accuracy: 0.4936\n",
      "Epoch 17/50\n",
      "751/751 [==============================] - 1s 1ms/step - loss: 8.3842 - accuracy: 0.4565 - val_loss: 7.8114 - val_accuracy: 0.4936\n",
      "Epoch 18/50\n",
      "751/751 [==============================] - 1s 1ms/step - loss: 8.3842 - accuracy: 0.4565 - val_loss: 7.8114 - val_accuracy: 0.4936\n",
      "Epoch 19/50\n",
      "751/751 [==============================] - 1s 985us/step - loss: 8.3842 - accuracy: 0.4565 - val_loss: 7.8114 - val_accuracy: 0.4936\n",
      "Epoch 20/50\n",
      "751/751 [==============================] - 1s 1ms/step - loss: 8.3842 - accuracy: 0.4565 - val_loss: 7.8114 - val_accuracy: 0.4936\n",
      "Epoch 21/50\n",
      "751/751 [==============================] - 1s 1ms/step - loss: 8.3842 - accuracy: 0.4565 - val_loss: 7.8114 - val_accuracy: 0.4936\n",
      "Epoch 22/50\n",
      "751/751 [==============================] - 1s 961us/step - loss: 8.3842 - accuracy: 0.4565 - val_loss: 7.8114 - val_accuracy: 0.4936\n",
      "Epoch 23/50\n",
      "751/751 [==============================] - 1s 985us/step - loss: 8.3842 - accuracy: 0.4565 - val_loss: 7.8114 - val_accuracy: 0.4936\n",
      "Epoch 24/50\n",
      "751/751 [==============================] - 1s 1ms/step - loss: 8.3842 - accuracy: 0.4565 - val_loss: 7.8114 - val_accuracy: 0.4936\n",
      "Epoch 25/50\n",
      "751/751 [==============================] - 1s 1ms/step - loss: 8.3842 - accuracy: 0.4565 - val_loss: 7.8114 - val_accuracy: 0.4936\n",
      "Epoch 26/50\n",
      "751/751 [==============================] - 1s 1ms/step - loss: 8.3842 - accuracy: 0.4565 - val_loss: 7.8114 - val_accuracy: 0.4936\n",
      "Epoch 27/50\n",
      "751/751 [==============================] - 1s 1ms/step - loss: 8.3842 - accuracy: 0.4565 - val_loss: 7.8114 - val_accuracy: 0.4936\n",
      "Epoch 28/50\n",
      "751/751 [==============================] - 1s 931us/step - loss: 8.3842 - accuracy: 0.4565 - val_loss: 7.8114 - val_accuracy: 0.4936\n",
      "Epoch 29/50\n",
      "751/751 [==============================] - 1s 934us/step - loss: 8.3842 - accuracy: 0.4565 - val_loss: 7.8114 - val_accuracy: 0.4936\n",
      "Epoch 30/50\n",
      "751/751 [==============================] - 1s 1ms/step - loss: 8.3842 - accuracy: 0.4565 - val_loss: 7.8114 - val_accuracy: 0.4936\n",
      "Epoch 31/50\n",
      "751/751 [==============================] - 1s 1ms/step - loss: 8.3842 - accuracy: 0.4565 - val_loss: 7.8114 - val_accuracy: 0.4936\n",
      "Epoch 32/50\n",
      "751/751 [==============================] - 1s 978us/step - loss: 8.3842 - accuracy: 0.4565 - val_loss: 7.8114 - val_accuracy: 0.4936\n",
      "Epoch 33/50\n",
      "751/751 [==============================] - 1s 931us/step - loss: 8.3842 - accuracy: 0.4565 - val_loss: 7.8114 - val_accuracy: 0.4936\n",
      "Epoch 34/50\n",
      "751/751 [==============================] - 1s 996us/step - loss: 8.3842 - accuracy: 0.4565 - val_loss: 7.8114 - val_accuracy: 0.4936\n",
      "Epoch 35/50\n",
      "751/751 [==============================] - 1s 939us/step - loss: 8.3842 - accuracy: 0.4565 - val_loss: 7.8114 - val_accuracy: 0.4936\n",
      "Epoch 36/50\n",
      "751/751 [==============================] - 1s 934us/step - loss: 8.3842 - accuracy: 0.4565 - val_loss: 7.8114 - val_accuracy: 0.4936\n",
      "Epoch 37/50\n",
      "751/751 [==============================] - 1s 918us/step - loss: 8.3842 - accuracy: 0.4565 - val_loss: 7.8114 - val_accuracy: 0.4936\n",
      "Epoch 38/50\n",
      "751/751 [==============================] - 1s 1ms/step - loss: 8.3842 - accuracy: 0.4565 - val_loss: 7.8114 - val_accuracy: 0.4936\n",
      "Epoch 39/50\n",
      "751/751 [==============================] - 1s 1ms/step - loss: 8.3842 - accuracy: 0.4565 - val_loss: 7.8114 - val_accuracy: 0.4936\n",
      "Epoch 40/50\n",
      "751/751 [==============================] - 1s 1ms/step - loss: 8.3842 - accuracy: 0.4565 - val_loss: 7.8114 - val_accuracy: 0.4936\n",
      "Epoch 41/50\n",
      "751/751 [==============================] - 1s 950us/step - loss: 8.3842 - accuracy: 0.4565 - val_loss: 7.8114 - val_accuracy: 0.4936\n",
      "Epoch 42/50\n",
      "751/751 [==============================] - 1s 936us/step - loss: 8.3842 - accuracy: 0.4565 - val_loss: 7.8114 - val_accuracy: 0.4936\n",
      "Epoch 43/50\n",
      "751/751 [==============================] - 1s 938us/step - loss: 8.3842 - accuracy: 0.4565 - val_loss: 7.8114 - val_accuracy: 0.4936\n",
      "Epoch 44/50\n",
      "751/751 [==============================] - 1s 930us/step - loss: 8.3842 - accuracy: 0.4565 - val_loss: 7.8114 - val_accuracy: 0.4936\n",
      "Epoch 45/50\n",
      "751/751 [==============================] - 1s 951us/step - loss: 8.3842 - accuracy: 0.4565 - val_loss: 7.8114 - val_accuracy: 0.4936\n",
      "Epoch 46/50\n",
      "751/751 [==============================] - 1s 931us/step - loss: 8.3842 - accuracy: 0.4565 - val_loss: 7.8114 - val_accuracy: 0.4936\n",
      "Epoch 47/50\n",
      "751/751 [==============================] - 1s 1ms/step - loss: 8.3842 - accuracy: 0.4565 - val_loss: 7.8114 - val_accuracy: 0.4936\n",
      "Epoch 48/50\n",
      "751/751 [==============================] - 1s 1ms/step - loss: 8.3842 - accuracy: 0.4565 - val_loss: 7.8114 - val_accuracy: 0.4936\n",
      "Epoch 49/50\n",
      "751/751 [==============================] - 1s 2ms/step - loss: 8.3842 - accuracy: 0.4565 - val_loss: 7.8114 - val_accuracy: 0.4936\n",
      "Epoch 50/50\n",
      "751/751 [==============================] - 1s 1ms/step - loss: 8.3842 - accuracy: 0.4565 - val_loss: 7.8114 - val_accuracy: 0.4936\n"
     ]
    }
   ],
   "metadata": {}
  },
  {
   "cell_type": "code",
   "execution_count": 36,
   "source": [
    "model_loss, model_accuracy = nn_A1.evaluate(X_test_scaled, y_test, verbose=2)\r\n",
    "\r\n",
    "print(F'Loss:{model_loss}, Accuracy: {model_accuracy}')"
   ],
   "outputs": [
    {
     "output_type": "stream",
     "name": "stdout",
     "text": [
      "268/268 - 0s - loss: 7.9970 - accuracy: 0.4714\n",
      "Loss:7.997049808502197, Accuracy: 0.47137024998664856\n"
     ]
    }
   ],
   "metadata": {}
  },
  {
   "cell_type": "markdown",
   "source": [
    "#### Alternative Model 2"
   ],
   "metadata": {}
  },
  {
   "cell_type": "code",
   "execution_count": 37,
   "source": [
    "# Define the the number of inputs (features) to the model\r\n",
    "number_input_features = len(X_train.iloc[0])\r\n",
    "\r\n",
    "# Review the number of features\r\n",
    "number_input_features"
   ],
   "outputs": [
    {
     "output_type": "execute_result",
     "data": {
      "text/plain": [
       "116"
      ]
     },
     "metadata": {},
     "execution_count": 37
    }
   ],
   "metadata": {}
  },
  {
   "cell_type": "code",
   "execution_count": 38,
   "source": [
    "# Define the number of neurons in the output layer\r\n",
    "number_output_neurons_A2 = 1"
   ],
   "outputs": [],
   "metadata": {}
  },
  {
   "cell_type": "code",
   "execution_count": 40,
   "source": [
    "# Define the number of hidden nodes for the first hidden layer\r\n",
    "hidden_nodes_layer1_A2 = 15\r\n",
    "\r\n",
    "# Define the number of hidden nodes in the second layer\r\n",
    "hidden_nodes_layer2_A2 = 15"
   ],
   "outputs": [],
   "metadata": {}
  },
  {
   "cell_type": "code",
   "execution_count": 41,
   "source": [
    "# Create the Sequential model instance\r\n",
    "nn_A2 = Sequential()"
   ],
   "outputs": [],
   "metadata": {}
  },
  {
   "cell_type": "code",
   "execution_count": 42,
   "source": [
    "# First hidden layer\r\n",
    "nn_A2.add(Dense(units=hidden_nodes_layer1_A2, input_dim=number_input_features,activation='relu'))\r\n",
    "\r\n",
    "# Second hidden layer\r\n",
    "nn_A2.add(Dense(units=hidden_nodes_layer2_A2, activation='relu'))\r\n",
    "# Output layer\r\n",
    "nn_A2.add(Dense(units=number_output_neurons_A2, activation='sigmoid'))\r\n",
    "\r\n",
    "# Check the structure of the model\r\n",
    "nn_A2.summary()\r\n"
   ],
   "outputs": [
    {
     "output_type": "stream",
     "name": "stdout",
     "text": [
      "Model: \"sequential_2\"\n",
      "_________________________________________________________________\n",
      "Layer (type)                 Output Shape              Param #   \n",
      "=================================================================\n",
      "dense_6 (Dense)              (None, 15)                1755      \n",
      "_________________________________________________________________\n",
      "dense_7 (Dense)              (None, 15)                240       \n",
      "_________________________________________________________________\n",
      "dense_8 (Dense)              (None, 1)                 16        \n",
      "=================================================================\n",
      "Total params: 2,011\n",
      "Trainable params: 2,011\n",
      "Non-trainable params: 0\n",
      "_________________________________________________________________\n"
     ]
    }
   ],
   "metadata": {}
  },
  {
   "cell_type": "code",
   "execution_count": 43,
   "source": [
    "# Compile the model\r\n",
    "nn_A2.compile(loss='binary_crossentropy', optimizer='adam', metrics=['accuracy'])\r\n"
   ],
   "outputs": [],
   "metadata": {}
  },
  {
   "cell_type": "code",
   "execution_count": 44,
   "source": [
    "# Fit the model\r\n",
    "fit_model_A2 = nn_A2.fit(X, y, validation_split=0.3, epochs=50)\r\n"
   ],
   "outputs": [
    {
     "output_type": "stream",
     "name": "stdout",
     "text": [
      "Epoch 1/50\n",
      "751/751 [==============================] - 1s 1ms/step - loss: 12220.4785 - accuracy: 0.5069 - val_loss: 0.7076 - val_accuracy: 0.4936\n",
      "Epoch 2/50\n",
      "751/751 [==============================] - 1s 1ms/step - loss: 0.7063 - accuracy: 0.4565 - val_loss: 0.6941 - val_accuracy: 0.4936\n",
      "Epoch 3/50\n",
      "751/751 [==============================] - 1s 1ms/step - loss: 0.6926 - accuracy: 0.5131 - val_loss: 0.6936 - val_accuracy: 0.5064\n",
      "Epoch 4/50\n",
      "751/751 [==============================] - 1s 1ms/step - loss: 0.6897 - accuracy: 0.5435 - val_loss: 0.6950 - val_accuracy: 0.5064\n",
      "Epoch 5/50\n",
      "751/751 [==============================] - 1s 1ms/step - loss: 0.6894 - accuracy: 0.5435 - val_loss: 0.6957 - val_accuracy: 0.5064\n",
      "Epoch 6/50\n",
      "751/751 [==============================] - 1s 1ms/step - loss: 0.6894 - accuracy: 0.5435 - val_loss: 0.6959 - val_accuracy: 0.5064\n",
      "Epoch 7/50\n",
      "751/751 [==============================] - 1s 1ms/step - loss: 0.6894 - accuracy: 0.5435 - val_loss: 0.6957 - val_accuracy: 0.5064\n",
      "Epoch 8/50\n",
      "751/751 [==============================] - 1s 1ms/step - loss: 0.6894 - accuracy: 0.5435 - val_loss: 0.6957 - val_accuracy: 0.5064\n",
      "Epoch 9/50\n",
      "751/751 [==============================] - 1s 1ms/step - loss: 0.6894 - accuracy: 0.5435 - val_loss: 0.6957 - val_accuracy: 0.5064\n",
      "Epoch 10/50\n",
      "751/751 [==============================] - 1s 1ms/step - loss: 0.6894 - accuracy: 0.5435 - val_loss: 0.6963 - val_accuracy: 0.5064\n",
      "Epoch 11/50\n",
      "751/751 [==============================] - 1s 1ms/step - loss: 0.6894 - accuracy: 0.5435 - val_loss: 0.6964 - val_accuracy: 0.5064\n",
      "Epoch 12/50\n",
      "751/751 [==============================] - 1s 1ms/step - loss: 0.6894 - accuracy: 0.5435 - val_loss: 0.6957 - val_accuracy: 0.5064\n",
      "Epoch 13/50\n",
      "751/751 [==============================] - 1s 1ms/step - loss: 0.6894 - accuracy: 0.5435 - val_loss: 0.6954 - val_accuracy: 0.5064\n",
      "Epoch 14/50\n",
      "751/751 [==============================] - 1s 988us/step - loss: 0.6894 - accuracy: 0.5435 - val_loss: 0.6959 - val_accuracy: 0.5064\n",
      "Epoch 15/50\n",
      "751/751 [==============================] - 1s 1ms/step - loss: 0.6894 - accuracy: 0.5435 - val_loss: 0.6959 - val_accuracy: 0.5064\n",
      "Epoch 16/50\n",
      "751/751 [==============================] - 1s 1ms/step - loss: 0.6894 - accuracy: 0.5435 - val_loss: 0.6957 - val_accuracy: 0.5064\n",
      "Epoch 17/50\n",
      "751/751 [==============================] - 1s 1000us/step - loss: 0.6894 - accuracy: 0.5435 - val_loss: 0.6962 - val_accuracy: 0.5064\n",
      "Epoch 18/50\n",
      "751/751 [==============================] - 1s 1ms/step - loss: 0.6894 - accuracy: 0.5435 - val_loss: 0.6960 - val_accuracy: 0.5064\n",
      "Epoch 19/50\n",
      "751/751 [==============================] - 1s 1ms/step - loss: 0.6894 - accuracy: 0.5435 - val_loss: 0.6959 - val_accuracy: 0.5064\n",
      "Epoch 20/50\n",
      "751/751 [==============================] - 1s 1ms/step - loss: 0.6894 - accuracy: 0.5435 - val_loss: 0.6957 - val_accuracy: 0.5064\n",
      "Epoch 21/50\n",
      "751/751 [==============================] - 1s 1ms/step - loss: 0.6894 - accuracy: 0.5435 - val_loss: 0.6957 - val_accuracy: 0.5064\n",
      "Epoch 22/50\n",
      "751/751 [==============================] - 1s 1ms/step - loss: 0.6894 - accuracy: 0.5435 - val_loss: 0.6957 - val_accuracy: 0.5064\n",
      "Epoch 23/50\n",
      "751/751 [==============================] - 1s 1ms/step - loss: 0.6894 - accuracy: 0.5435 - val_loss: 0.6955 - val_accuracy: 0.5064\n",
      "Epoch 24/50\n",
      "751/751 [==============================] - 1s 1ms/step - loss: 0.6894 - accuracy: 0.5435 - val_loss: 0.6955 - val_accuracy: 0.5064\n",
      "Epoch 25/50\n",
      "751/751 [==============================] - 1s 2ms/step - loss: 0.6894 - accuracy: 0.5435 - val_loss: 0.6958 - val_accuracy: 0.5064\n",
      "Epoch 26/50\n",
      "751/751 [==============================] - 1s 2ms/step - loss: 0.6894 - accuracy: 0.5435 - val_loss: 0.6958 - val_accuracy: 0.5064\n",
      "Epoch 27/50\n",
      "751/751 [==============================] - 1s 2ms/step - loss: 0.6894 - accuracy: 0.5435 - val_loss: 0.6956 - val_accuracy: 0.5064\n",
      "Epoch 28/50\n",
      "751/751 [==============================] - 1s 2ms/step - loss: 0.6894 - accuracy: 0.5435 - val_loss: 0.6959 - val_accuracy: 0.5064\n",
      "Epoch 29/50\n",
      "751/751 [==============================] - 1s 2ms/step - loss: 0.6894 - accuracy: 0.5435 - val_loss: 0.6957 - val_accuracy: 0.5064\n",
      "Epoch 30/50\n",
      "751/751 [==============================] - 1s 1ms/step - loss: 0.6894 - accuracy: 0.5435 - val_loss: 0.6960 - val_accuracy: 0.5064\n",
      "Epoch 31/50\n",
      "751/751 [==============================] - 1s 1ms/step - loss: 0.6894 - accuracy: 0.5435 - val_loss: 0.6956 - val_accuracy: 0.5064\n",
      "Epoch 32/50\n",
      "751/751 [==============================] - 1s 989us/step - loss: 0.6894 - accuracy: 0.5435 - val_loss: 0.6952 - val_accuracy: 0.5064\n",
      "Epoch 33/50\n",
      "751/751 [==============================] - 1s 1000us/step - loss: 0.6894 - accuracy: 0.5435 - val_loss: 0.6962 - val_accuracy: 0.5064\n",
      "Epoch 34/50\n",
      "751/751 [==============================] - 1s 977us/step - loss: 0.6894 - accuracy: 0.5435 - val_loss: 0.6958 - val_accuracy: 0.5064\n",
      "Epoch 35/50\n",
      "751/751 [==============================] - 1s 973us/step - loss: 0.6894 - accuracy: 0.5435 - val_loss: 0.6960 - val_accuracy: 0.5064\n",
      "Epoch 36/50\n",
      "751/751 [==============================] - 1s 987us/step - loss: 0.6894 - accuracy: 0.5435 - val_loss: 0.6959 - val_accuracy: 0.5064\n",
      "Epoch 37/50\n",
      "751/751 [==============================] - 1s 974us/step - loss: 0.6894 - accuracy: 0.5435 - val_loss: 0.6959 - val_accuracy: 0.5064\n",
      "Epoch 38/50\n",
      "751/751 [==============================] - 1s 962us/step - loss: 0.6894 - accuracy: 0.5435 - val_loss: 0.6962 - val_accuracy: 0.5064\n",
      "Epoch 39/50\n",
      "751/751 [==============================] - 1s 968us/step - loss: 0.6894 - accuracy: 0.5435 - val_loss: 0.6958 - val_accuracy: 0.5064\n",
      "Epoch 40/50\n",
      "751/751 [==============================] - 1s 971us/step - loss: 0.6894 - accuracy: 0.5435 - val_loss: 0.6959 - val_accuracy: 0.5064\n",
      "Epoch 41/50\n",
      "751/751 [==============================] - 1s 1ms/step - loss: 0.6893 - accuracy: 0.5435 - val_loss: 0.6965 - val_accuracy: 0.5064\n",
      "Epoch 42/50\n",
      "751/751 [==============================] - 1s 1ms/step - loss: 0.6894 - accuracy: 0.5435 - val_loss: 0.6961 - val_accuracy: 0.5064\n",
      "Epoch 43/50\n",
      "751/751 [==============================] - 1s 1ms/step - loss: 0.6894 - accuracy: 0.5435 - val_loss: 0.6963 - val_accuracy: 0.5064\n",
      "Epoch 44/50\n",
      "751/751 [==============================] - 1s 2ms/step - loss: 0.6894 - accuracy: 0.5435 - val_loss: 0.6958 - val_accuracy: 0.5064\n",
      "Epoch 45/50\n",
      "751/751 [==============================] - 1s 1ms/step - loss: 0.6894 - accuracy: 0.5435 - val_loss: 0.6959 - val_accuracy: 0.5064\n",
      "Epoch 46/50\n",
      "751/751 [==============================] - 1s 1ms/step - loss: 0.6894 - accuracy: 0.5435 - val_loss: 0.6958 - val_accuracy: 0.5064\n",
      "Epoch 47/50\n",
      "751/751 [==============================] - 1s 1ms/step - loss: 0.6894 - accuracy: 0.5435 - val_loss: 0.6960 - val_accuracy: 0.5064\n",
      "Epoch 48/50\n",
      "751/751 [==============================] - 1s 1ms/step - loss: 0.6894 - accuracy: 0.5435 - val_loss: 0.6954 - val_accuracy: 0.5064\n",
      "Epoch 49/50\n",
      "751/751 [==============================] - 1s 2ms/step - loss: 0.6894 - accuracy: 0.5435 - val_loss: 0.6960 - val_accuracy: 0.5064\n",
      "Epoch 50/50\n",
      "751/751 [==============================] - 1s 1ms/step - loss: 0.6894 - accuracy: 0.5435 - val_loss: 0.6958 - val_accuracy: 0.5064\n"
     ]
    }
   ],
   "metadata": {}
  },
  {
   "cell_type": "markdown",
   "source": [
    "### Step 2: After finishing your models, display the accuracy scores achieved by each model, and compare the results."
   ],
   "metadata": {}
  },
  {
   "cell_type": "code",
   "execution_count": 45,
   "source": [
    "print(\"Original Model Results\")\r\n",
    "\r\n",
    "# Evaluate the model loss and accuracy metrics using the evaluate method and the test data\r\n",
    "model_loss, model_accuracy = nn.evaluate(X_test_scaled, y_test, verbose=2)\r\n",
    "\r\n",
    "# Display the model loss and accuracy results\r\n",
    "print(f\"Loss: {model_loss}, Accuracy: {model_accuracy}\")"
   ],
   "outputs": [
    {
     "output_type": "stream",
     "name": "stdout",
     "text": [
      "Original Model Results\n",
      "268/268 - 0s - loss: 0.6935 - accuracy: 0.5284\n",
      "Loss: 0.6935482025146484, Accuracy: 0.528396487236023\n"
     ]
    }
   ],
   "metadata": {}
  },
  {
   "cell_type": "code",
   "execution_count": 47,
   "source": [
    "print(\"Alternative Model 1 Results\")\r\n",
    "\r\n",
    "# Evaluate the model loss and accuracy metrics using the evaluate method and the test data\r\n",
    "model_loss, model_accuracy = nn_A1.evaluate(X_test_scaled, y_test, verbose=2)\r\n",
    "\r\n",
    "# Display the model loss and accuracy results\r\n",
    "print(f\"Loss: {model_loss}, Accuracy: {model_accuracy}\")"
   ],
   "outputs": [
    {
     "output_type": "stream",
     "name": "stdout",
     "text": [
      "Alternative Model 1 Results\n",
      "268/268 - 0s - loss: 7.9970 - accuracy: 0.4714\n",
      "Loss: 7.997049808502197, Accuracy: 0.47137024998664856\n"
     ]
    }
   ],
   "metadata": {}
  },
  {
   "cell_type": "code",
   "execution_count": 48,
   "source": [
    "print(\"Alternative Model 2 Results\")\r\n",
    "\r\n",
    "# Evaluate the model loss and accuracy metrics using the evaluate method and the test data\r\n",
    "model_loss, model_accuracy = nn_A2.evaluate(X_test_scaled, y_test, verbose=2)\r\n",
    "\r\n",
    "# Display the model loss and accuracy results\r\n",
    "print(f\"Loss: {model_loss}, Accuracy: {model_accuracy}\")"
   ],
   "outputs": [
    {
     "output_type": "stream",
     "name": "stdout",
     "text": [
      "Alternative Model 2 Results\n",
      "268/268 - 0s - loss: 0.7233 - accuracy: 0.4674\n",
      "Loss: 0.7232514023780823, Accuracy: 0.4674052596092224\n"
     ]
    }
   ],
   "metadata": {}
  },
  {
   "cell_type": "markdown",
   "source": [
    "### Step 3: Save each of your alternative models as an HDF5 file.\n"
   ],
   "metadata": {}
  },
  {
   "cell_type": "code",
   "execution_count": 49,
   "source": [
    "# Set the file path for the first alternative model\r\n",
    "file_path = 'Resources/modelA1.h5'\r\n",
    "\r\n",
    "# Export your model to a HDF5 file\r\n",
    "nn_A1.save_weights(file_path)\r\n"
   ],
   "outputs": [],
   "metadata": {}
  },
  {
   "cell_type": "code",
   "execution_count": 50,
   "source": [
    "# Set the file path for the second alternative model\r\n",
    "file_path = 'Resources/modelA2.h5'\r\n",
    "\r\n",
    "# Export your model to a HDF5 file\r\n",
    "nn_A2.save_weights(file_path)\r\n"
   ],
   "outputs": [],
   "metadata": {}
  },
  {
   "cell_type": "code",
   "execution_count": null,
   "source": [],
   "outputs": [],
   "metadata": {}
  }
 ],
 "metadata": {
  "kernelspec": {
   "name": "python3",
   "display_name": "Python 3.7.10 64-bit ('dev': conda)"
  },
  "language_info": {
   "codemirror_mode": {
    "name": "ipython",
    "version": 3
   },
   "file_extension": ".py",
   "mimetype": "text/x-python",
   "name": "python",
   "nbconvert_exporter": "python",
   "pygments_lexer": "ipython3",
   "version": "3.7.10"
  },
  "interpreter": {
   "hash": "98e8a86f1a80fa5964c775adedce0c1597264d02af6c8f426349aa657d6ada29"
  }
 },
 "nbformat": 4,
 "nbformat_minor": 4
}